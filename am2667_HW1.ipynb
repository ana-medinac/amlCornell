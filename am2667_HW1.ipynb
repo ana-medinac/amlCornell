{
  "nbformat": 4,
  "nbformat_minor": 0,
  "metadata": {
    "colab": {
      "provenance": [],
      "collapsed_sections": [],
      "include_colab_link": true
    },
    "kernelspec": {
      "name": "python3",
      "display_name": "Python 3"
    },
    "language_info": {
      "name": "python"
    }
  },
  "cells": [
    {
      "cell_type": "markdown",
      "metadata": {
        "id": "view-in-github",
        "colab_type": "text"
      },
      "source": [
        "<a href=\"https://colab.research.google.com/github/ana-medinac/amlCornell/blob/HW1---AML/am2667_HW1.ipynb\" target=\"_parent\"><img src=\"https://colab.research.google.com/assets/colab-badge.svg\" alt=\"Open In Colab\"/></a>"
      ]
    },
    {
      "cell_type": "code",
      "execution_count": 21,
      "metadata": {
        "id": "ssTv2zsFhDrf"
      },
      "outputs": [],
      "source": [
        "import pandas as pd\n",
        "import numpy as np\n",
        "import seaborn as sns\n",
        "import matplotlib.pyplot as plt\n",
        "import io"
      ]
    },
    {
      "cell_type": "code",
      "source": [
        "import io\n",
        "ds = pd.read_csv('train.csv')\n",
        "\n",
        "print(ds.shape)\n",
        "ds.head()\n"
      ],
      "metadata": {
        "colab": {
          "base_uri": "https://localhost:8080/",
          "height": 317
        },
        "id": "6GPMhOpkhQxu",
        "outputId": "f1362997-99f5-4054-fcbb-74bdd72b21a1"
      },
      "execution_count": 22,
      "outputs": [
        {
          "output_type": "stream",
          "name": "stdout",
          "text": [
            "(1460, 81)\n"
          ]
        },
        {
          "output_type": "execute_result",
          "data": {
            "text/plain": [
              "   Id  MSSubClass MSZoning  LotFrontage  LotArea Street Alley LotShape  \\\n",
              "0   1          60       RL         65.0     8450   Pave   NaN      Reg   \n",
              "1   2          20       RL         80.0     9600   Pave   NaN      Reg   \n",
              "2   3          60       RL         68.0    11250   Pave   NaN      IR1   \n",
              "3   4          70       RL         60.0     9550   Pave   NaN      IR1   \n",
              "4   5          60       RL         84.0    14260   Pave   NaN      IR1   \n",
              "\n",
              "  LandContour Utilities  ... PoolArea PoolQC Fence MiscFeature MiscVal MoSold  \\\n",
              "0         Lvl    AllPub  ...        0    NaN   NaN         NaN       0      2   \n",
              "1         Lvl    AllPub  ...        0    NaN   NaN         NaN       0      5   \n",
              "2         Lvl    AllPub  ...        0    NaN   NaN         NaN       0      9   \n",
              "3         Lvl    AllPub  ...        0    NaN   NaN         NaN       0      2   \n",
              "4         Lvl    AllPub  ...        0    NaN   NaN         NaN       0     12   \n",
              "\n",
              "  YrSold  SaleType  SaleCondition  SalePrice  \n",
              "0   2008        WD         Normal     208500  \n",
              "1   2007        WD         Normal     181500  \n",
              "2   2008        WD         Normal     223500  \n",
              "3   2006        WD        Abnorml     140000  \n",
              "4   2008        WD         Normal     250000  \n",
              "\n",
              "[5 rows x 81 columns]"
            ],
            "text/html": [
              "\n",
              "  <div id=\"df-8645ab9a-ffb4-4910-b477-5531acb15038\">\n",
              "    <div class=\"colab-df-container\">\n",
              "      <div>\n",
              "<style scoped>\n",
              "    .dataframe tbody tr th:only-of-type {\n",
              "        vertical-align: middle;\n",
              "    }\n",
              "\n",
              "    .dataframe tbody tr th {\n",
              "        vertical-align: top;\n",
              "    }\n",
              "\n",
              "    .dataframe thead th {\n",
              "        text-align: right;\n",
              "    }\n",
              "</style>\n",
              "<table border=\"1\" class=\"dataframe\">\n",
              "  <thead>\n",
              "    <tr style=\"text-align: right;\">\n",
              "      <th></th>\n",
              "      <th>Id</th>\n",
              "      <th>MSSubClass</th>\n",
              "      <th>MSZoning</th>\n",
              "      <th>LotFrontage</th>\n",
              "      <th>LotArea</th>\n",
              "      <th>Street</th>\n",
              "      <th>Alley</th>\n",
              "      <th>LotShape</th>\n",
              "      <th>LandContour</th>\n",
              "      <th>Utilities</th>\n",
              "      <th>...</th>\n",
              "      <th>PoolArea</th>\n",
              "      <th>PoolQC</th>\n",
              "      <th>Fence</th>\n",
              "      <th>MiscFeature</th>\n",
              "      <th>MiscVal</th>\n",
              "      <th>MoSold</th>\n",
              "      <th>YrSold</th>\n",
              "      <th>SaleType</th>\n",
              "      <th>SaleCondition</th>\n",
              "      <th>SalePrice</th>\n",
              "    </tr>\n",
              "  </thead>\n",
              "  <tbody>\n",
              "    <tr>\n",
              "      <th>0</th>\n",
              "      <td>1</td>\n",
              "      <td>60</td>\n",
              "      <td>RL</td>\n",
              "      <td>65.0</td>\n",
              "      <td>8450</td>\n",
              "      <td>Pave</td>\n",
              "      <td>NaN</td>\n",
              "      <td>Reg</td>\n",
              "      <td>Lvl</td>\n",
              "      <td>AllPub</td>\n",
              "      <td>...</td>\n",
              "      <td>0</td>\n",
              "      <td>NaN</td>\n",
              "      <td>NaN</td>\n",
              "      <td>NaN</td>\n",
              "      <td>0</td>\n",
              "      <td>2</td>\n",
              "      <td>2008</td>\n",
              "      <td>WD</td>\n",
              "      <td>Normal</td>\n",
              "      <td>208500</td>\n",
              "    </tr>\n",
              "    <tr>\n",
              "      <th>1</th>\n",
              "      <td>2</td>\n",
              "      <td>20</td>\n",
              "      <td>RL</td>\n",
              "      <td>80.0</td>\n",
              "      <td>9600</td>\n",
              "      <td>Pave</td>\n",
              "      <td>NaN</td>\n",
              "      <td>Reg</td>\n",
              "      <td>Lvl</td>\n",
              "      <td>AllPub</td>\n",
              "      <td>...</td>\n",
              "      <td>0</td>\n",
              "      <td>NaN</td>\n",
              "      <td>NaN</td>\n",
              "      <td>NaN</td>\n",
              "      <td>0</td>\n",
              "      <td>5</td>\n",
              "      <td>2007</td>\n",
              "      <td>WD</td>\n",
              "      <td>Normal</td>\n",
              "      <td>181500</td>\n",
              "    </tr>\n",
              "    <tr>\n",
              "      <th>2</th>\n",
              "      <td>3</td>\n",
              "      <td>60</td>\n",
              "      <td>RL</td>\n",
              "      <td>68.0</td>\n",
              "      <td>11250</td>\n",
              "      <td>Pave</td>\n",
              "      <td>NaN</td>\n",
              "      <td>IR1</td>\n",
              "      <td>Lvl</td>\n",
              "      <td>AllPub</td>\n",
              "      <td>...</td>\n",
              "      <td>0</td>\n",
              "      <td>NaN</td>\n",
              "      <td>NaN</td>\n",
              "      <td>NaN</td>\n",
              "      <td>0</td>\n",
              "      <td>9</td>\n",
              "      <td>2008</td>\n",
              "      <td>WD</td>\n",
              "      <td>Normal</td>\n",
              "      <td>223500</td>\n",
              "    </tr>\n",
              "    <tr>\n",
              "      <th>3</th>\n",
              "      <td>4</td>\n",
              "      <td>70</td>\n",
              "      <td>RL</td>\n",
              "      <td>60.0</td>\n",
              "      <td>9550</td>\n",
              "      <td>Pave</td>\n",
              "      <td>NaN</td>\n",
              "      <td>IR1</td>\n",
              "      <td>Lvl</td>\n",
              "      <td>AllPub</td>\n",
              "      <td>...</td>\n",
              "      <td>0</td>\n",
              "      <td>NaN</td>\n",
              "      <td>NaN</td>\n",
              "      <td>NaN</td>\n",
              "      <td>0</td>\n",
              "      <td>2</td>\n",
              "      <td>2006</td>\n",
              "      <td>WD</td>\n",
              "      <td>Abnorml</td>\n",
              "      <td>140000</td>\n",
              "    </tr>\n",
              "    <tr>\n",
              "      <th>4</th>\n",
              "      <td>5</td>\n",
              "      <td>60</td>\n",
              "      <td>RL</td>\n",
              "      <td>84.0</td>\n",
              "      <td>14260</td>\n",
              "      <td>Pave</td>\n",
              "      <td>NaN</td>\n",
              "      <td>IR1</td>\n",
              "      <td>Lvl</td>\n",
              "      <td>AllPub</td>\n",
              "      <td>...</td>\n",
              "      <td>0</td>\n",
              "      <td>NaN</td>\n",
              "      <td>NaN</td>\n",
              "      <td>NaN</td>\n",
              "      <td>0</td>\n",
              "      <td>12</td>\n",
              "      <td>2008</td>\n",
              "      <td>WD</td>\n",
              "      <td>Normal</td>\n",
              "      <td>250000</td>\n",
              "    </tr>\n",
              "  </tbody>\n",
              "</table>\n",
              "<p>5 rows × 81 columns</p>\n",
              "</div>\n",
              "      <button class=\"colab-df-convert\" onclick=\"convertToInteractive('df-8645ab9a-ffb4-4910-b477-5531acb15038')\"\n",
              "              title=\"Convert this dataframe to an interactive table.\"\n",
              "              style=\"display:none;\">\n",
              "        \n",
              "  <svg xmlns=\"http://www.w3.org/2000/svg\" height=\"24px\"viewBox=\"0 0 24 24\"\n",
              "       width=\"24px\">\n",
              "    <path d=\"M0 0h24v24H0V0z\" fill=\"none\"/>\n",
              "    <path d=\"M18.56 5.44l.94 2.06.94-2.06 2.06-.94-2.06-.94-.94-2.06-.94 2.06-2.06.94zm-11 1L8.5 8.5l.94-2.06 2.06-.94-2.06-.94L8.5 2.5l-.94 2.06-2.06.94zm10 10l.94 2.06.94-2.06 2.06-.94-2.06-.94-.94-2.06-.94 2.06-2.06.94z\"/><path d=\"M17.41 7.96l-1.37-1.37c-.4-.4-.92-.59-1.43-.59-.52 0-1.04.2-1.43.59L10.3 9.45l-7.72 7.72c-.78.78-.78 2.05 0 2.83L4 21.41c.39.39.9.59 1.41.59.51 0 1.02-.2 1.41-.59l7.78-7.78 2.81-2.81c.8-.78.8-2.07 0-2.86zM5.41 20L4 18.59l7.72-7.72 1.47 1.35L5.41 20z\"/>\n",
              "  </svg>\n",
              "      </button>\n",
              "      \n",
              "  <style>\n",
              "    .colab-df-container {\n",
              "      display:flex;\n",
              "      flex-wrap:wrap;\n",
              "      gap: 12px;\n",
              "    }\n",
              "\n",
              "    .colab-df-convert {\n",
              "      background-color: #E8F0FE;\n",
              "      border: none;\n",
              "      border-radius: 50%;\n",
              "      cursor: pointer;\n",
              "      display: none;\n",
              "      fill: #1967D2;\n",
              "      height: 32px;\n",
              "      padding: 0 0 0 0;\n",
              "      width: 32px;\n",
              "    }\n",
              "\n",
              "    .colab-df-convert:hover {\n",
              "      background-color: #E2EBFA;\n",
              "      box-shadow: 0px 1px 2px rgba(60, 64, 67, 0.3), 0px 1px 3px 1px rgba(60, 64, 67, 0.15);\n",
              "      fill: #174EA6;\n",
              "    }\n",
              "\n",
              "    [theme=dark] .colab-df-convert {\n",
              "      background-color: #3B4455;\n",
              "      fill: #D2E3FC;\n",
              "    }\n",
              "\n",
              "    [theme=dark] .colab-df-convert:hover {\n",
              "      background-color: #434B5C;\n",
              "      box-shadow: 0px 1px 3px 1px rgba(0, 0, 0, 0.15);\n",
              "      filter: drop-shadow(0px 1px 2px rgba(0, 0, 0, 0.3));\n",
              "      fill: #FFFFFF;\n",
              "    }\n",
              "  </style>\n",
              "\n",
              "      <script>\n",
              "        const buttonEl =\n",
              "          document.querySelector('#df-8645ab9a-ffb4-4910-b477-5531acb15038 button.colab-df-convert');\n",
              "        buttonEl.style.display =\n",
              "          google.colab.kernel.accessAllowed ? 'block' : 'none';\n",
              "\n",
              "        async function convertToInteractive(key) {\n",
              "          const element = document.querySelector('#df-8645ab9a-ffb4-4910-b477-5531acb15038');\n",
              "          const dataTable =\n",
              "            await google.colab.kernel.invokeFunction('convertToInteractive',\n",
              "                                                     [key], {});\n",
              "          if (!dataTable) return;\n",
              "\n",
              "          const docLinkHtml = 'Like what you see? Visit the ' +\n",
              "            '<a target=\"_blank\" href=https://colab.research.google.com/notebooks/data_table.ipynb>data table notebook</a>'\n",
              "            + ' to learn more about interactive tables.';\n",
              "          element.innerHTML = '';\n",
              "          dataTable['output_type'] = 'display_data';\n",
              "          await google.colab.output.renderOutput(dataTable, element);\n",
              "          const docLink = document.createElement('div');\n",
              "          docLink.innerHTML = docLinkHtml;\n",
              "          element.appendChild(docLink);\n",
              "        }\n",
              "      </script>\n",
              "    </div>\n",
              "  </div>\n",
              "  "
            ]
          },
          "metadata": {},
          "execution_count": 22
        }
      ]
    },
    {
      "cell_type": "code",
      "source": [
        "print(ds)\n",
        "ds.shape\n",
        "ds.head(2)"
      ],
      "metadata": {
        "colab": {
          "base_uri": "https://localhost:8080/",
          "height": 920
        },
        "id": "o6R5_q08h01Y",
        "outputId": "1480704a-ad23-4c87-e109-8d98ab4f242b"
      },
      "execution_count": 23,
      "outputs": [
        {
          "output_type": "stream",
          "name": "stdout",
          "text": [
            "        Id  MSSubClass MSZoning  LotFrontage  LotArea Street Alley LotShape  \\\n",
            "0        1          60       RL         65.0     8450   Pave   NaN      Reg   \n",
            "1        2          20       RL         80.0     9600   Pave   NaN      Reg   \n",
            "2        3          60       RL         68.0    11250   Pave   NaN      IR1   \n",
            "3        4          70       RL         60.0     9550   Pave   NaN      IR1   \n",
            "4        5          60       RL         84.0    14260   Pave   NaN      IR1   \n",
            "...    ...         ...      ...          ...      ...    ...   ...      ...   \n",
            "1455  1456          60       RL         62.0     7917   Pave   NaN      Reg   \n",
            "1456  1457          20       RL         85.0    13175   Pave   NaN      Reg   \n",
            "1457  1458          70       RL         66.0     9042   Pave   NaN      Reg   \n",
            "1458  1459          20       RL         68.0     9717   Pave   NaN      Reg   \n",
            "1459  1460          20       RL         75.0     9937   Pave   NaN      Reg   \n",
            "\n",
            "     LandContour Utilities  ... PoolArea PoolQC  Fence MiscFeature MiscVal  \\\n",
            "0            Lvl    AllPub  ...        0    NaN    NaN         NaN       0   \n",
            "1            Lvl    AllPub  ...        0    NaN    NaN         NaN       0   \n",
            "2            Lvl    AllPub  ...        0    NaN    NaN         NaN       0   \n",
            "3            Lvl    AllPub  ...        0    NaN    NaN         NaN       0   \n",
            "4            Lvl    AllPub  ...        0    NaN    NaN         NaN       0   \n",
            "...          ...       ...  ...      ...    ...    ...         ...     ...   \n",
            "1455         Lvl    AllPub  ...        0    NaN    NaN         NaN       0   \n",
            "1456         Lvl    AllPub  ...        0    NaN  MnPrv         NaN       0   \n",
            "1457         Lvl    AllPub  ...        0    NaN  GdPrv        Shed    2500   \n",
            "1458         Lvl    AllPub  ...        0    NaN    NaN         NaN       0   \n",
            "1459         Lvl    AllPub  ...        0    NaN    NaN         NaN       0   \n",
            "\n",
            "     MoSold YrSold  SaleType  SaleCondition  SalePrice  \n",
            "0         2   2008        WD         Normal     208500  \n",
            "1         5   2007        WD         Normal     181500  \n",
            "2         9   2008        WD         Normal     223500  \n",
            "3         2   2006        WD        Abnorml     140000  \n",
            "4        12   2008        WD         Normal     250000  \n",
            "...     ...    ...       ...            ...        ...  \n",
            "1455      8   2007        WD         Normal     175000  \n",
            "1456      2   2010        WD         Normal     210000  \n",
            "1457      5   2010        WD         Normal     266500  \n",
            "1458      4   2010        WD         Normal     142125  \n",
            "1459      6   2008        WD         Normal     147500  \n",
            "\n",
            "[1460 rows x 81 columns]\n"
          ]
        },
        {
          "output_type": "execute_result",
          "data": {
            "text/plain": [
              "   Id  MSSubClass MSZoning  LotFrontage  LotArea Street Alley LotShape  \\\n",
              "0   1          60       RL         65.0     8450   Pave   NaN      Reg   \n",
              "1   2          20       RL         80.0     9600   Pave   NaN      Reg   \n",
              "\n",
              "  LandContour Utilities  ... PoolArea PoolQC Fence MiscFeature MiscVal MoSold  \\\n",
              "0         Lvl    AllPub  ...        0    NaN   NaN         NaN       0      2   \n",
              "1         Lvl    AllPub  ...        0    NaN   NaN         NaN       0      5   \n",
              "\n",
              "  YrSold  SaleType  SaleCondition  SalePrice  \n",
              "0   2008        WD         Normal     208500  \n",
              "1   2007        WD         Normal     181500  \n",
              "\n",
              "[2 rows x 81 columns]"
            ],
            "text/html": [
              "\n",
              "  <div id=\"df-c94d2873-db5b-4081-94ba-56a8fbf5b384\">\n",
              "    <div class=\"colab-df-container\">\n",
              "      <div>\n",
              "<style scoped>\n",
              "    .dataframe tbody tr th:only-of-type {\n",
              "        vertical-align: middle;\n",
              "    }\n",
              "\n",
              "    .dataframe tbody tr th {\n",
              "        vertical-align: top;\n",
              "    }\n",
              "\n",
              "    .dataframe thead th {\n",
              "        text-align: right;\n",
              "    }\n",
              "</style>\n",
              "<table border=\"1\" class=\"dataframe\">\n",
              "  <thead>\n",
              "    <tr style=\"text-align: right;\">\n",
              "      <th></th>\n",
              "      <th>Id</th>\n",
              "      <th>MSSubClass</th>\n",
              "      <th>MSZoning</th>\n",
              "      <th>LotFrontage</th>\n",
              "      <th>LotArea</th>\n",
              "      <th>Street</th>\n",
              "      <th>Alley</th>\n",
              "      <th>LotShape</th>\n",
              "      <th>LandContour</th>\n",
              "      <th>Utilities</th>\n",
              "      <th>...</th>\n",
              "      <th>PoolArea</th>\n",
              "      <th>PoolQC</th>\n",
              "      <th>Fence</th>\n",
              "      <th>MiscFeature</th>\n",
              "      <th>MiscVal</th>\n",
              "      <th>MoSold</th>\n",
              "      <th>YrSold</th>\n",
              "      <th>SaleType</th>\n",
              "      <th>SaleCondition</th>\n",
              "      <th>SalePrice</th>\n",
              "    </tr>\n",
              "  </thead>\n",
              "  <tbody>\n",
              "    <tr>\n",
              "      <th>0</th>\n",
              "      <td>1</td>\n",
              "      <td>60</td>\n",
              "      <td>RL</td>\n",
              "      <td>65.0</td>\n",
              "      <td>8450</td>\n",
              "      <td>Pave</td>\n",
              "      <td>NaN</td>\n",
              "      <td>Reg</td>\n",
              "      <td>Lvl</td>\n",
              "      <td>AllPub</td>\n",
              "      <td>...</td>\n",
              "      <td>0</td>\n",
              "      <td>NaN</td>\n",
              "      <td>NaN</td>\n",
              "      <td>NaN</td>\n",
              "      <td>0</td>\n",
              "      <td>2</td>\n",
              "      <td>2008</td>\n",
              "      <td>WD</td>\n",
              "      <td>Normal</td>\n",
              "      <td>208500</td>\n",
              "    </tr>\n",
              "    <tr>\n",
              "      <th>1</th>\n",
              "      <td>2</td>\n",
              "      <td>20</td>\n",
              "      <td>RL</td>\n",
              "      <td>80.0</td>\n",
              "      <td>9600</td>\n",
              "      <td>Pave</td>\n",
              "      <td>NaN</td>\n",
              "      <td>Reg</td>\n",
              "      <td>Lvl</td>\n",
              "      <td>AllPub</td>\n",
              "      <td>...</td>\n",
              "      <td>0</td>\n",
              "      <td>NaN</td>\n",
              "      <td>NaN</td>\n",
              "      <td>NaN</td>\n",
              "      <td>0</td>\n",
              "      <td>5</td>\n",
              "      <td>2007</td>\n",
              "      <td>WD</td>\n",
              "      <td>Normal</td>\n",
              "      <td>181500</td>\n",
              "    </tr>\n",
              "  </tbody>\n",
              "</table>\n",
              "<p>2 rows × 81 columns</p>\n",
              "</div>\n",
              "      <button class=\"colab-df-convert\" onclick=\"convertToInteractive('df-c94d2873-db5b-4081-94ba-56a8fbf5b384')\"\n",
              "              title=\"Convert this dataframe to an interactive table.\"\n",
              "              style=\"display:none;\">\n",
              "        \n",
              "  <svg xmlns=\"http://www.w3.org/2000/svg\" height=\"24px\"viewBox=\"0 0 24 24\"\n",
              "       width=\"24px\">\n",
              "    <path d=\"M0 0h24v24H0V0z\" fill=\"none\"/>\n",
              "    <path d=\"M18.56 5.44l.94 2.06.94-2.06 2.06-.94-2.06-.94-.94-2.06-.94 2.06-2.06.94zm-11 1L8.5 8.5l.94-2.06 2.06-.94-2.06-.94L8.5 2.5l-.94 2.06-2.06.94zm10 10l.94 2.06.94-2.06 2.06-.94-2.06-.94-.94-2.06-.94 2.06-2.06.94z\"/><path d=\"M17.41 7.96l-1.37-1.37c-.4-.4-.92-.59-1.43-.59-.52 0-1.04.2-1.43.59L10.3 9.45l-7.72 7.72c-.78.78-.78 2.05 0 2.83L4 21.41c.39.39.9.59 1.41.59.51 0 1.02-.2 1.41-.59l7.78-7.78 2.81-2.81c.8-.78.8-2.07 0-2.86zM5.41 20L4 18.59l7.72-7.72 1.47 1.35L5.41 20z\"/>\n",
              "  </svg>\n",
              "      </button>\n",
              "      \n",
              "  <style>\n",
              "    .colab-df-container {\n",
              "      display:flex;\n",
              "      flex-wrap:wrap;\n",
              "      gap: 12px;\n",
              "    }\n",
              "\n",
              "    .colab-df-convert {\n",
              "      background-color: #E8F0FE;\n",
              "      border: none;\n",
              "      border-radius: 50%;\n",
              "      cursor: pointer;\n",
              "      display: none;\n",
              "      fill: #1967D2;\n",
              "      height: 32px;\n",
              "      padding: 0 0 0 0;\n",
              "      width: 32px;\n",
              "    }\n",
              "\n",
              "    .colab-df-convert:hover {\n",
              "      background-color: #E2EBFA;\n",
              "      box-shadow: 0px 1px 2px rgba(60, 64, 67, 0.3), 0px 1px 3px 1px rgba(60, 64, 67, 0.15);\n",
              "      fill: #174EA6;\n",
              "    }\n",
              "\n",
              "    [theme=dark] .colab-df-convert {\n",
              "      background-color: #3B4455;\n",
              "      fill: #D2E3FC;\n",
              "    }\n",
              "\n",
              "    [theme=dark] .colab-df-convert:hover {\n",
              "      background-color: #434B5C;\n",
              "      box-shadow: 0px 1px 3px 1px rgba(0, 0, 0, 0.15);\n",
              "      filter: drop-shadow(0px 1px 2px rgba(0, 0, 0, 0.3));\n",
              "      fill: #FFFFFF;\n",
              "    }\n",
              "  </style>\n",
              "\n",
              "      <script>\n",
              "        const buttonEl =\n",
              "          document.querySelector('#df-c94d2873-db5b-4081-94ba-56a8fbf5b384 button.colab-df-convert');\n",
              "        buttonEl.style.display =\n",
              "          google.colab.kernel.accessAllowed ? 'block' : 'none';\n",
              "\n",
              "        async function convertToInteractive(key) {\n",
              "          const element = document.querySelector('#df-c94d2873-db5b-4081-94ba-56a8fbf5b384');\n",
              "          const dataTable =\n",
              "            await google.colab.kernel.invokeFunction('convertToInteractive',\n",
              "                                                     [key], {});\n",
              "          if (!dataTable) return;\n",
              "\n",
              "          const docLinkHtml = 'Like what you see? Visit the ' +\n",
              "            '<a target=\"_blank\" href=https://colab.research.google.com/notebooks/data_table.ipynb>data table notebook</a>'\n",
              "            + ' to learn more about interactive tables.';\n",
              "          element.innerHTML = '';\n",
              "          dataTable['output_type'] = 'display_data';\n",
              "          await google.colab.output.renderOutput(dataTable, element);\n",
              "          const docLink = document.createElement('div');\n",
              "          docLink.innerHTML = docLinkHtml;\n",
              "          element.appendChild(docLink);\n",
              "        }\n",
              "      </script>\n",
              "    </div>\n",
              "  </div>\n",
              "  "
            ]
          },
          "metadata": {},
          "execution_count": 23
        }
      ]
    },
    {
      "cell_type": "code",
      "source": [
        "## here going to try to identify values that are continuous \n",
        "ds.dtypes"
      ],
      "metadata": {
        "colab": {
          "base_uri": "https://localhost:8080/"
        },
        "id": "D4jQVK1RiGuj",
        "outputId": "4b5ee5a0-d03e-48e7-80a5-646bc748652a"
      },
      "execution_count": 24,
      "outputs": [
        {
          "output_type": "execute_result",
          "data": {
            "text/plain": [
              "Id                 int64\n",
              "MSSubClass         int64\n",
              "MSZoning          object\n",
              "LotFrontage      float64\n",
              "LotArea            int64\n",
              "                  ...   \n",
              "MoSold             int64\n",
              "YrSold             int64\n",
              "SaleType          object\n",
              "SaleCondition     object\n",
              "SalePrice          int64\n",
              "Length: 81, dtype: object"
            ]
          },
          "metadata": {},
          "execution_count": 24
        }
      ]
    },
    {
      "cell_type": "markdown",
      "source": [
        "3 categorical values:\n",
        "\n",
        "*   MSZoning\n",
        "*   SaleType\n",
        "* Condition\n",
        "\n",
        "3 continuous values:\n",
        "\n",
        "* ID\n",
        "*MSSubClass\n",
        "*LotFrontage OR\n",
        "*LotArea\n",
        "\n"
      ],
      "metadata": {
        "id": "7kKQlarRqTJf"
      }
    },
    {
      "cell_type": "code",
      "source": [
        "ds['MSZoning'].unique()"
      ],
      "metadata": {
        "colab": {
          "base_uri": "https://localhost:8080/"
        },
        "id": "A_vsZOEspzT6",
        "outputId": "d1971e66-aa13-48b1-f6ae-84d42b47bb4d"
      },
      "execution_count": 25,
      "outputs": [
        {
          "output_type": "execute_result",
          "data": {
            "text/plain": [
              "array(['RL', 'RM', 'C (all)', 'FV', 'RH'], dtype=object)"
            ]
          },
          "metadata": {},
          "execution_count": 25
        }
      ]
    },
    {
      "cell_type": "markdown",
      "source": [
        "Just confirming that I got this right. "
      ],
      "metadata": {
        "id": "3krZ26-jo8Xw"
      }
    },
    {
      "cell_type": "code",
      "source": [
        "## going to build a histogram now for 1 continuous feature --> MSSubClass\n",
        "\n",
        "#!!!!ds.hist(column='MSSubClass')\n",
        "\n",
        "plt.hist(x=ds['MSSubClass'], color='#0504aa', alpha=0.7, ec=\"k\")\n",
        "plt.grid(True)\n",
        "plt.xlabel('MSSubClass')\n",
        "plt.ylabel('Frequency')\n",
        "plt.title('Histogram of MSSubClass')\n",
        "\n",
        "\n"
      ],
      "metadata": {
        "colab": {
          "base_uri": "https://localhost:8080/",
          "height": 313
        },
        "id": "_vGE1ZfGqrsx",
        "outputId": "d2983a8d-2a65-43e0-9412-b0a8cf9b8487"
      },
      "execution_count": 26,
      "outputs": [
        {
          "output_type": "execute_result",
          "data": {
            "text/plain": [
              "Text(0.5, 1.0, 'Histogram of MSSubClass')"
            ]
          },
          "metadata": {},
          "execution_count": 26
        },
        {
          "output_type": "display_data",
          "data": {
            "text/plain": [
              "<Figure size 432x288 with 1 Axes>"
            ],
            "image/png": "[encoded data removed]"
          },
          "metadata": {
            "needs_background": "light"
          }
        }
      ]
    },
    {
      "cell_type": "markdown",
      "source": [
        "I NEED TO ADD AXIS LABEL!!!"
      ],
      "metadata": {
        "id": "OYcsZ3DCskMj"
      }
    },
    {
      "cell_type": "code",
      "source": [
        "## Now going to plot categorical data \n",
        "\n",
        "#!!!!ds['MSZoning'].value_counts().plot(kind='bar')\n",
        "\n",
        "ds['MSZoning'].value_counts().plot(kind='bar', color='#0504aa', alpha=0.7, ec=\"k\")\n",
        "plt.xlabel(\"MSZoning\")\n",
        "plt.ylabel(\"Count\")\n",
        "plt.title(\"Barplot of MSZoning\")"
      ],
      "metadata": {
        "colab": {
          "base_uri": "https://localhost:8080/",
          "height": 333
        },
        "id": "xldZlS2prvPI",
        "outputId": "10ecc0d2-1d2c-4887-9296-9b7dc6ddf074"
      },
      "execution_count": 27,
      "outputs": [
        {
          "output_type": "execute_result",
          "data": {
            "text/plain": [
              "Text(0.5, 1.0, 'Barplot of MSZoning')"
            ]
          },
          "metadata": {},
          "execution_count": 27
        },
        {
          "output_type": "display_data",
          "data": {
            "text/plain": [
              "<Figure size 432x288 with 1 Axes>"
            ],
            "image/png": "[encoded data removed]"
          },
          "metadata": {
            "needs_background": "light"
          }
        }
      ]
    },
    {
      "cell_type": "markdown",
      "source": [
        "Also missing labels!!!! 🙃"
      ],
      "metadata": {
        "id": "gV6mWIDg4KSA"
      }
    },
    {
      "cell_type": "code",
      "source": [
        "# Question 3 -- Pre-process your data, explain your pre-processing steps, and the reasons why you need them.\n",
        "#(Hint: data pre-processing steps can include but are not restricted to: dealing with missing values,\n",
        "# normalizing numerical values, dealing with categorical values etc.)\n",
        "\n",
        "ds.shape\n",
        "ds.info()"
      ],
      "metadata": {
        "colab": {
          "base_uri": "https://localhost:8080/"
        },
        "id": "g4rpig4Xt7IK",
        "outputId": "7a554b66-a3ee-49fa-a600-87ee8b543a9e"
      },
      "execution_count": 28,
      "outputs": [
        {
          "output_type": "stream",
          "name": "stdout",
          "text": [
            "<class 'pandas.core.frame.DataFrame'>\n",
            "RangeIndex: 1460 entries, 0 to 1459\n",
            "Data columns (total 81 columns):\n",
            " #   Column         Non-Null Count  Dtype  \n",
            "---  ------         --------------  -----  \n",
            " 0   Id             1460 non-null   int64  \n",
            " 1   MSSubClass     1460 non-null   int64  \n",
            " 2   MSZoning       1460 non-null   object \n",
            " 3   LotFrontage    1201 non-null   float64\n",
            " 4   LotArea        1460 non-null   int64  \n",
            " 5   Street         1460 non-null   object \n",
            " 6   Alley          91 non-null     object \n",
            " 7   LotShape       1460 non-null   object \n",
            " 8   LandContour    1460 non-null   object \n",
            " 9   Utilities      1460 non-null   object \n",
            " 10  LotConfig      1460 non-null   object \n",
            " 11  LandSlope      1460 non-null   object \n",
            " 12  Neighborhood   1460 non-null   object \n",
            " 13  Condition1     1460 non-null   object \n",
            " 14  Condition2     1460 non-null   object \n",
            " 15  BldgType       1460 non-null   object \n",
            " 16  HouseStyle     1460 non-null   object \n",
            " 17  OverallQual    1460 non-null   int64  \n",
            " 18  OverallCond    1460 non-null   int64  \n",
            " 19  YearBuilt      1460 non-null   int64  \n",
            " 20  YearRemodAdd   1460 non-null   int64  \n",
            " 21  RoofStyle      1460 non-null   object \n",
            " 22  RoofMatl       1460 non-null   object \n",
            " 23  Exterior1st    1460 non-null   object \n",
            " 24  Exterior2nd    1460 non-null   object \n",
            " 25  MasVnrType     1452 non-null   object \n",
            " 26  MasVnrArea     1452 non-null   float64\n",
            " 27  ExterQual      1460 non-null   object \n",
            " 28  ExterCond      1460 non-null   object \n",
            " 29  Foundation     1460 non-null   object \n",
            " 30  BsmtQual       1423 non-null   object \n",
            " 31  BsmtCond       1423 non-null   object \n",
            " 32  BsmtExposure   1422 non-null   object \n",
            " 33  BsmtFinType1   1423 non-null   object \n",
            " 34  BsmtFinSF1     1460 non-null   int64  \n",
            " 35  BsmtFinType2   1422 non-null   object \n",
            " 36  BsmtFinSF2     1460 non-null   int64  \n",
            " 37  BsmtUnfSF      1460 non-null   int64  \n",
            " 38  TotalBsmtSF    1460 non-null   int64  \n",
            " 39  Heating        1460 non-null   object \n",
            " 40  HeatingQC      1460 non-null   object \n",
            " 41  CentralAir     1460 non-null   object \n",
            " 42  Electrical     1459 non-null   object \n",
            " 43  1stFlrSF       1460 non-null   int64  \n",
            " 44  2ndFlrSF       1460 non-null   int64  \n",
            " 45  LowQualFinSF   1460 non-null   int64  \n",
            " 46  GrLivArea      1460 non-null   int64  \n",
            " 47  BsmtFullBath   1460 non-null   int64  \n",
            " 48  BsmtHalfBath   1460 non-null   int64  \n",
            " 49  FullBath       1460 non-null   int64  \n",
            " 50  HalfBath       1460 non-null   int64  \n",
            " 51  BedroomAbvGr   1460 non-null   int64  \n",
            " 52  KitchenAbvGr   1460 non-null   int64  \n",
            " 53  KitchenQual    1460 non-null   object \n",
            " 54  TotRmsAbvGrd   1460 non-null   int64  \n",
            " 55  Functional     1460 non-null   object \n",
            " 56  Fireplaces     1460 non-null   int64  \n",
            " 57  FireplaceQu    770 non-null    object \n",
            " 58  GarageType     1379 non-null   object \n",
            " 59  GarageYrBlt    1379 non-null   float64\n",
            " 60  GarageFinish   1379 non-null   object \n",
            " 61  GarageCars     1460 non-null   int64  \n",
            " 62  GarageArea     1460 non-null   int64  \n",
            " 63  GarageQual     1379 non-null   object \n",
            " 64  GarageCond     1379 non-null   object \n",
            " 65  PavedDrive     1460 non-null   object \n",
            " 66  WoodDeckSF     1460 non-null   int64  \n",
            " 67  OpenPorchSF    1460 non-null   int64  \n",
            " 68  EnclosedPorch  1460 non-null   int64  \n",
            " 69  3SsnPorch      1460 non-null   int64  \n",
            " 70  ScreenPorch    1460 non-null   int64  \n",
            " 71  PoolArea       1460 non-null   int64  \n",
            " 72  PoolQC         7 non-null      object \n",
            " 73  Fence          281 non-null    object \n",
            " 74  MiscFeature    54 non-null     object \n",
            " 75  MiscVal        1460 non-null   int64  \n",
            " 76  MoSold         1460 non-null   int64  \n",
            " 77  YrSold         1460 non-null   int64  \n",
            " 78  SaleType       1460 non-null   object \n",
            " 79  SaleCondition  1460 non-null   object \n",
            " 80  SalePrice      1460 non-null   int64  \n",
            "dtypes: float64(3), int64(35), object(43)\n",
            "memory usage: 924.0+ KB\n"
          ]
        }
      ]
    },
    {
      "cell_type": "markdown",
      "source": [
        "Ok at first glance info:\n",
        "\n",
        "* a lot of these have missing values\n",
        "* there is a variety of data types (maybe we should try to convert floats to integers so that they're all the same)\n",
        "* Are there any not useful columns that we could drop?"
      ],
      "metadata": {
        "id": "qlBeqxXFuy9y"
      }
    },
    {
      "cell_type": "code",
      "source": [
        "#formula to include or exclude stuff: numeric_df=train_ds.select_dtypes(include= (numpy=numeric))"
      ],
      "metadata": {
        "id": "Nb4Zoa6m4SWJ"
      },
      "execution_count": 29,
      "outputs": []
    },
    {
      "cell_type": "markdown",
      "source": [
        "We will use seaborn to create a simple heatmap to see where we are missing data!"
      ],
      "metadata": {
        "id": "o8zY--aToROx"
      }
    },
    {
      "cell_type": "code",
      "source": [
        "fig = plt.subplots(figsize=(15,15)) # Create a big image of heatmap, so that we can see it better\n",
        "sns.heatmap(ds.isnull(),yticklabels=False,cbar=False,cmap='viridis')"
      ],
      "metadata": {
        "colab": {
          "base_uri": "https://localhost:8080/",
          "height": 947
        },
        "id": "qrDEPD7YoWtE",
        "outputId": "66baf824-21c6-4784-f324-4a026c72ad81"
      },
      "execution_count": 30,
      "outputs": [
        {
          "output_type": "execute_result",
          "data": {
            "text/plain": [
              "<matplotlib.axes._subplots.AxesSubplot at 0x7f29e772a510>"
            ]
          },
          "metadata": {},
          "execution_count": 30
        },
        {
          "output_type": "display_data",
          "data": {
            "text/plain": [
              "<Figure size 1080x1080 with 1 Axes>"
            ],
            "image/png": "[encoded data removed]"
          },
          "metadata": {
            "needs_background": "light"
          }
        }
      ]
    },
    {
      "cell_type": "markdown",
      "source": [
        "Dealing with missing values"
      ],
      "metadata": {
        "id": "RPQRymdLtcXT"
      }
    },
    {
      "cell_type": "code",
      "source": [
        "# we will find the percentage of missing values for each column and then drop the columns that more than 30% of values are missing\n",
        "total = ds.isnull().sum().sort_values(ascending=False)\n",
        "percent = (ds.isnull().sum()/len(ds)).sort_values(ascending=False)\n",
        "missing_data = pd.concat([total, percent], axis=1, keys=['Total', 'Percent'])"
      ],
      "metadata": {
        "id": "TqyvmQcIWeew"
      },
      "execution_count": 31,
      "outputs": []
    },
    {
      "cell_type": "code",
      "source": [
        "# Remove Columns that have more than 30% missing values\n",
        "ds.drop((missing_data[missing_data['Percent'] > 0.30]).index,1,inplace = True)"
      ],
      "metadata": {
        "id": "m_-dn2h3tYZA",
        "colab": {
          "base_uri": "https://localhost:8080/"
        },
        "outputId": "bd08f5c3-e847-4c59-a201-41a5049f80d1"
      },
      "execution_count": 32,
      "outputs": [
        {
          "output_type": "stream",
          "name": "stderr",
          "text": [
            "/usr/local/lib/python3.7/dist-packages/ipykernel_launcher.py:2: FutureWarning: In a future version of pandas all arguments of DataFrame.drop except for the argument 'labels' will be keyword-only\n",
            "  \n"
          ]
        }
      ]
    },
    {
      "cell_type": "markdown",
      "source": [
        "Other Columns that are missing data are:\n",
        "LotFrontage, MasVnrType, MasVnrArea, BsmtQual, BsmtCond, BsmtExposure, BsmtFinType1, \n",
        "BsmtFinType2, Electrical, GarageType, GarageYrBlt, GarageFinish, GarageQual, GarageCond\n",
        "\n",
        "But we can fill them out, since we have enough information :)"
      ],
      "metadata": {
        "id": "f0aDLpAAuL-H"
      }
    },
    {
      "cell_type": "code",
      "source": [
        "# now we will visualize the missing values\n",
        "fig = plt.subplots(figsize=(20,5))  \n",
        "sns.heatmap(ds.isnull(),yticklabels=False,cbar=False,cmap='viridis')"
      ],
      "metadata": {
        "id": "OWJUK3CxKqNy",
        "colab": {
          "base_uri": "https://localhost:8080/",
          "height": 340
        },
        "outputId": "f152a5d6-7745-4e17-eae6-dd5b51174dca"
      },
      "execution_count": 33,
      "outputs": [
        {
          "output_type": "execute_result",
          "data": {
            "text/plain": [
              "<matplotlib.axes._subplots.AxesSubplot at 0x7f29e7748f50>"
            ]
          },
          "metadata": {},
          "execution_count": 33
        },
        {
          "output_type": "display_data",
          "data": {
            "text/plain": [
              "<Figure size 1440x360 with 1 Axes>"
            ],
            "image/png": "[encoded data removed]"
          },
          "metadata": {
            "needs_background": "light"
          }
        }
      ]
    },
    {
      "cell_type": "code",
      "source": [
        "plt.figure(figsize=(12, 7))\n",
        "box_plot = sns.boxplot(x='Street',y='LotFrontage',data=ds,palette='winter')"
      ],
      "metadata": {
        "id": "U-B7cWJ9LHGM",
        "colab": {
          "base_uri": "https://localhost:8080/",
          "height": 442
        },
        "outputId": "2c32a3b7-ea02-40cd-c5d6-8778a62504de"
      },
      "execution_count": 34,
      "outputs": [
        {
          "output_type": "display_data",
          "data": {
            "text/plain": [
              "<Figure size 864x504 with 1 Axes>"
            ],
            "image/png": "[encoded data removed]"
          },
          "metadata": {
            "needs_background": "light"
          }
        }
      ]
    },
    {
      "cell_type": "markdown",
      "source": [
        "There are 2 samples that have a very different value for LotFrontage (>300), even greater that other outliers, so we will set them as the value of the 75% percentile."
      ],
      "metadata": {
        "id": "uXO0Mwa4LKmH"
      }
    },
    {
      "cell_type": "code",
      "source": [
        "q = ds.groupby(['Street'])['LotFrontage'].quantile([0.25,0.5,0.75])\n",
        "q"
      ],
      "metadata": {
        "id": "nhvoq_XXLXg1",
        "colab": {
          "base_uri": "https://localhost:8080/"
        },
        "outputId": "a99bede1-486d-42e5-d69f-38b877a610eb"
      },
      "execution_count": 35,
      "outputs": [
        {
          "output_type": "execute_result",
          "data": {
            "text/plain": [
              "Street      \n",
              "Grvl    0.25     66.0\n",
              "        0.50     81.0\n",
              "        0.75    110.0\n",
              "Pave    0.25     59.0\n",
              "        0.50     69.0\n",
              "        0.75     80.0\n",
              "Name: LotFrontage, dtype: float64"
            ]
          },
          "metadata": {},
          "execution_count": 35
        }
      ]
    },
    {
      "cell_type": "code",
      "source": [
        "ds.loc[ds[\"LotFrontage\"] > 300, \"LotFrontage\"] = q[5]"
      ],
      "metadata": {
        "id": "eGjAptx0LZyh"
      },
      "execution_count": 36,
      "outputs": []
    },
    {
      "cell_type": "code",
      "source": [
        "plt.figure(figsize=(12, 7))\n",
        "box_plot = sns.boxplot(x='Street',y='LotFrontage',data=ds,palette='winter')"
      ],
      "metadata": {
        "id": "fdfG8KGDLdR-",
        "colab": {
          "base_uri": "https://localhost:8080/",
          "height": 442
        },
        "outputId": "7c2b3bca-6576-4d49-a13c-f1053bbdbb36"
      },
      "execution_count": 37,
      "outputs": [
        {
          "output_type": "display_data",
          "data": {
            "text/plain": [
              "<Figure size 864x504 with 1 Axes>"
            ],
            "image/png": "[encoded data removed]"
          },
          "metadata": {
            "needs_background": "light"
          }
        }
      ]
    },
    {
      "cell_type": "markdown",
      "source": [
        "There seems to be a correlation, bigger LotFrontage appears for Street 'Grvl'. We'll use these average age values to impute based on Street for LotFrontage."
      ],
      "metadata": {
        "id": "qLfBs819LouD"
      }
    },
    {
      "cell_type": "code",
      "source": [
        "def impute_LotFrontage(cols):\n",
        "    LotFrontage = cols[0]\n",
        "    Street = cols[1]\n",
        "    \n",
        "    if pd.isnull(LotFrontage):\n",
        "\n",
        "        if Street == 'Pave':\n",
        "            return 69\n",
        "\n",
        "        else:\n",
        "            return 81\n",
        "\n",
        "    else:\n",
        "        return LotFrontage"
      ],
      "metadata": {
        "id": "o3LJQrymLm6z"
      },
      "execution_count": 38,
      "outputs": []
    },
    {
      "cell_type": "code",
      "source": [
        "ds['LotFrontage'] = ds[['LotFrontage','Street']].apply(impute_LotFrontage,axis=1)"
      ],
      "metadata": {
        "id": "v7WOrg4LLumq"
      },
      "execution_count": 39,
      "outputs": []
    },
    {
      "cell_type": "code",
      "source": [
        "fig = plt.subplots(figsize=(20,5))  \n",
        "sns.heatmap(ds.isnull(),yticklabels=False,cbar=False,cmap='viridis')"
      ],
      "metadata": {
        "id": "xtgCSvzDLwRo",
        "colab": {
          "base_uri": "https://localhost:8080/",
          "height": 340
        },
        "outputId": "f2a46ad9-6d8c-4c11-bc7f-47dbe864f07a"
      },
      "execution_count": 40,
      "outputs": [
        {
          "output_type": "execute_result",
          "data": {
            "text/plain": [
              "<matplotlib.axes._subplots.AxesSubplot at 0x7f29e73f1350>"
            ]
          },
          "metadata": {},
          "execution_count": 40
        },
        {
          "output_type": "display_data",
          "data": {
            "text/plain": [
              "<Figure size 1440x360 with 1 Axes>"
            ],
            "image/png": "[encoded data removed]"
          },
          "metadata": {
            "needs_background": "light"
          }
        }
      ]
    },
    {
      "cell_type": "code",
      "source": [
        "# Replace remaining values with Median for Numeric and mode for categorical\n",
        "ds.fillna(ds.agg(['median',lambda x : x.value_counts().index[0]]).ffill().iloc[-1,:],inplace = True)"
      ],
      "metadata": {
        "id": "UgL9d7_KL1KI"
      },
      "execution_count": 41,
      "outputs": []
    },
    {
      "cell_type": "markdown",
      "source": [
        "Normalize numerical data"
      ],
      "metadata": {
        "id": "wr1j9Qf6L85U"
      }
    },
    {
      "cell_type": "code",
      "source": [
        "numerics = ['int16', 'int32', 'int64', 'float16', 'float32', 'float64']\n",
        "numds = ds.select_dtypes(include=numerics)\n",
        "numds"
      ],
      "metadata": {
        "id": "avXMjKz-L_AQ",
        "colab": {
          "base_uri": "https://localhost:8080/",
          "height": 488
        },
        "outputId": "cfc2510e-820b-449a-f61a-8bed49c0327d"
      },
      "execution_count": 42,
      "outputs": [
        {
          "output_type": "execute_result",
          "data": {
            "text/plain": [
              "        Id  MSSubClass  LotFrontage  LotArea  OverallQual  OverallCond  \\\n",
              "0        1          60         65.0     8450            7            5   \n",
              "1        2          20         80.0     9600            6            8   \n",
              "2        3          60         68.0    11250            7            5   \n",
              "3        4          70         60.0     9550            7            5   \n",
              "4        5          60         84.0    14260            8            5   \n",
              "...    ...         ...          ...      ...          ...          ...   \n",
              "1455  1456          60         62.0     7917            6            5   \n",
              "1456  1457          20         85.0    13175            6            6   \n",
              "1457  1458          70         66.0     9042            7            9   \n",
              "1458  1459          20         68.0     9717            5            6   \n",
              "1459  1460          20         75.0     9937            5            6   \n",
              "\n",
              "      YearBuilt  YearRemodAdd  MasVnrArea  BsmtFinSF1  ...  WoodDeckSF  \\\n",
              "0          2003          2003       196.0         706  ...           0   \n",
              "1          1976          1976         0.0         978  ...         298   \n",
              "2          2001          2002       162.0         486  ...           0   \n",
              "3          1915          1970         0.0         216  ...           0   \n",
              "4          2000          2000       350.0         655  ...         192   \n",
              "...         ...           ...         ...         ...  ...         ...   \n",
              "1455       1999          2000         0.0           0  ...           0   \n",
              "1456       1978          1988       119.0         790  ...         349   \n",
              "1457       1941          2006         0.0         275  ...           0   \n",
              "1458       1950          1996         0.0          49  ...         366   \n",
              "1459       1965          1965         0.0         830  ...         736   \n",
              "\n",
              "      OpenPorchSF  EnclosedPorch  3SsnPorch  ScreenPorch  PoolArea  MiscVal  \\\n",
              "0              61              0          0            0         0        0   \n",
              "1               0              0          0            0         0        0   \n",
              "2              42              0          0            0         0        0   \n",
              "3              35            272          0            0         0        0   \n",
              "4              84              0          0            0         0        0   \n",
              "...           ...            ...        ...          ...       ...      ...   \n",
              "1455           40              0          0            0         0        0   \n",
              "1456            0              0          0            0         0        0   \n",
              "1457           60              0          0            0         0     2500   \n",
              "1458            0            112          0            0         0        0   \n",
              "1459           68              0          0            0         0        0   \n",
              "\n",
              "      MoSold  YrSold  SalePrice  \n",
              "0          2    2008     208500  \n",
              "1          5    2007     181500  \n",
              "2          9    2008     223500  \n",
              "3          2    2006     140000  \n",
              "4         12    2008     250000  \n",
              "...      ...     ...        ...  \n",
              "1455       8    2007     175000  \n",
              "1456       2    2010     210000  \n",
              "1457       5    2010     266500  \n",
              "1458       4    2010     142125  \n",
              "1459       6    2008     147500  \n",
              "\n",
              "[1460 rows x 38 columns]"
            ],
            "text/html": [
              "\n",
              "  <div id=\"df-ee41232f-625b-4a4b-852b-2ae42eef2366\">\n",
              "    <div class=\"colab-df-container\">\n",
              "      <div>\n",
              "<style scoped>\n",
              "    .dataframe tbody tr th:only-of-type {\n",
              "        vertical-align: middle;\n",
              "    }\n",
              "\n",
              "    .dataframe tbody tr th {\n",
              "        vertical-align: top;\n",
              "    }\n",
              "\n",
              "    .dataframe thead th {\n",
              "        text-align: right;\n",
              "    }\n",
              "</style>\n",
              "<table border=\"1\" class=\"dataframe\">\n",
              "  <thead>\n",
              "    <tr style=\"text-align: right;\">\n",
              "      <th></th>\n",
              "      <th>Id</th>\n",
              "      <th>MSSubClass</th>\n",
              "      <th>LotFrontage</th>\n",
              "      <th>LotArea</th>\n",
              "      <th>OverallQual</th>\n",
              "      <th>OverallCond</th>\n",
              "      <th>YearBuilt</th>\n",
              "      <th>YearRemodAdd</th>\n",
              "      <th>MasVnrArea</th>\n",
              "      <th>BsmtFinSF1</th>\n",
              "      <th>...</th>\n",
              "      <th>WoodDeckSF</th>\n",
              "      <th>OpenPorchSF</th>\n",
              "      <th>EnclosedPorch</th>\n",
              "      <th>3SsnPorch</th>\n",
              "      <th>ScreenPorch</th>\n",
              "      <th>PoolArea</th>\n",
              "      <th>MiscVal</th>\n",
              "      <th>MoSold</th>\n",
              "      <th>YrSold</th>\n",
              "      <th>SalePrice</th>\n",
              "    </tr>\n",
              "  </thead>\n",
              "  <tbody>\n",
              "    <tr>\n",
              "      <th>0</th>\n",
              "      <td>1</td>\n",
              "      <td>60</td>\n",
              "      <td>65.0</td>\n",
              "      <td>8450</td>\n",
              "      <td>7</td>\n",
              "      <td>5</td>\n",
              "      <td>2003</td>\n",
              "      <td>2003</td>\n",
              "      <td>196.0</td>\n",
              "      <td>706</td>\n",
              "      <td>...</td>\n",
              "      <td>0</td>\n",
              "      <td>61</td>\n",
              "      <td>0</td>\n",
              "      <td>0</td>\n",
              "      <td>0</td>\n",
              "      <td>0</td>\n",
              "      <td>0</td>\n",
              "      <td>2</td>\n",
              "      <td>2008</td>\n",
              "      <td>208500</td>\n",
              "    </tr>\n",
              "    <tr>\n",
              "      <th>1</th>\n",
              "      <td>2</td>\n",
              "      <td>20</td>\n",
              "      <td>80.0</td>\n",
              "      <td>9600</td>\n",
              "      <td>6</td>\n",
              "      <td>8</td>\n",
              "      <td>1976</td>\n",
              "      <td>1976</td>\n",
              "      <td>0.0</td>\n",
              "      <td>978</td>\n",
              "      <td>...</td>\n",
              "      <td>298</td>\n",
              "      <td>0</td>\n",
              "      <td>0</td>\n",
              "      <td>0</td>\n",
              "      <td>0</td>\n",
              "      <td>0</td>\n",
              "      <td>0</td>\n",
              "      <td>5</td>\n",
              "      <td>2007</td>\n",
              "      <td>181500</td>\n",
              "    </tr>\n",
              "    <tr>\n",
              "      <th>2</th>\n",
              "      <td>3</td>\n",
              "      <td>60</td>\n",
              "      <td>68.0</td>\n",
              "      <td>11250</td>\n",
              "      <td>7</td>\n",
              "      <td>5</td>\n",
              "      <td>2001</td>\n",
              "      <td>2002</td>\n",
              "      <td>162.0</td>\n",
              "      <td>486</td>\n",
              "      <td>...</td>\n",
              "      <td>0</td>\n",
              "      <td>42</td>\n",
              "      <td>0</td>\n",
              "      <td>0</td>\n",
              "      <td>0</td>\n",
              "      <td>0</td>\n",
              "      <td>0</td>\n",
              "      <td>9</td>\n",
              "      <td>2008</td>\n",
              "      <td>223500</td>\n",
              "    </tr>\n",
              "    <tr>\n",
              "      <th>3</th>\n",
              "      <td>4</td>\n",
              "      <td>70</td>\n",
              "      <td>60.0</td>\n",
              "      <td>9550</td>\n",
              "      <td>7</td>\n",
              "      <td>5</td>\n",
              "      <td>1915</td>\n",
              "      <td>1970</td>\n",
              "      <td>0.0</td>\n",
              "      <td>216</td>\n",
              "      <td>...</td>\n",
              "      <td>0</td>\n",
              "      <td>35</td>\n",
              "      <td>272</td>\n",
              "      <td>0</td>\n",
              "      <td>0</td>\n",
              "      <td>0</td>\n",
              "      <td>0</td>\n",
              "      <td>2</td>\n",
              "      <td>2006</td>\n",
              "      <td>140000</td>\n",
              "    </tr>\n",
              "    <tr>\n",
              "      <th>4</th>\n",
              "      <td>5</td>\n",
              "      <td>60</td>\n",
              "      <td>84.0</td>\n",
              "      <td>14260</td>\n",
              "      <td>8</td>\n",
              "      <td>5</td>\n",
              "      <td>2000</td>\n",
              "      <td>2000</td>\n",
              "      <td>350.0</td>\n",
              "      <td>655</td>\n",
              "      <td>...</td>\n",
              "      <td>192</td>\n",
              "      <td>84</td>\n",
              "      <td>0</td>\n",
              "      <td>0</td>\n",
              "      <td>0</td>\n",
              "      <td>0</td>\n",
              "      <td>0</td>\n",
              "      <td>12</td>\n",
              "      <td>2008</td>\n",
              "      <td>250000</td>\n",
              "    </tr>\n",
              "    <tr>\n",
              "      <th>...</th>\n",
              "      <td>...</td>\n",
              "      <td>...</td>\n",
              "      <td>...</td>\n",
              "      <td>...</td>\n",
              "      <td>...</td>\n",
              "      <td>...</td>\n",
              "      <td>...</td>\n",
              "      <td>...</td>\n",
              "      <td>...</td>\n",
              "      <td>...</td>\n",
              "      <td>...</td>\n",
              "      <td>...</td>\n",
              "      <td>...</td>\n",
              "      <td>...</td>\n",
              "      <td>...</td>\n",
              "      <td>...</td>\n",
              "      <td>...</td>\n",
              "      <td>...</td>\n",
              "      <td>...</td>\n",
              "      <td>...</td>\n",
              "      <td>...</td>\n",
              "    </tr>\n",
              "    <tr>\n",
              "      <th>1455</th>\n",
              "      <td>1456</td>\n",
              "      <td>60</td>\n",
              "      <td>62.0</td>\n",
              "      <td>7917</td>\n",
              "      <td>6</td>\n",
              "      <td>5</td>\n",
              "      <td>1999</td>\n",
              "      <td>2000</td>\n",
              "      <td>0.0</td>\n",
              "      <td>0</td>\n",
              "      <td>...</td>\n",
              "      <td>0</td>\n",
              "      <td>40</td>\n",
              "      <td>0</td>\n",
              "      <td>0</td>\n",
              "      <td>0</td>\n",
              "      <td>0</td>\n",
              "      <td>0</td>\n",
              "      <td>8</td>\n",
              "      <td>2007</td>\n",
              "      <td>175000</td>\n",
              "    </tr>\n",
              "    <tr>\n",
              "      <th>1456</th>\n",
              "      <td>1457</td>\n",
              "      <td>20</td>\n",
              "      <td>85.0</td>\n",
              "      <td>13175</td>\n",
              "      <td>6</td>\n",
              "      <td>6</td>\n",
              "      <td>1978</td>\n",
              "      <td>1988</td>\n",
              "      <td>119.0</td>\n",
              "      <td>790</td>\n",
              "      <td>...</td>\n",
              "      <td>349</td>\n",
              "      <td>0</td>\n",
              "      <td>0</td>\n",
              "      <td>0</td>\n",
              "      <td>0</td>\n",
              "      <td>0</td>\n",
              "      <td>0</td>\n",
              "      <td>2</td>\n",
              "      <td>2010</td>\n",
              "      <td>210000</td>\n",
              "    </tr>\n",
              "    <tr>\n",
              "      <th>1457</th>\n",
              "      <td>1458</td>\n",
              "      <td>70</td>\n",
              "      <td>66.0</td>\n",
              "      <td>9042</td>\n",
              "      <td>7</td>\n",
              "      <td>9</td>\n",
              "      <td>1941</td>\n",
              "      <td>2006</td>\n",
              "      <td>0.0</td>\n",
              "      <td>275</td>\n",
              "      <td>...</td>\n",
              "      <td>0</td>\n",
              "      <td>60</td>\n",
              "      <td>0</td>\n",
              "      <td>0</td>\n",
              "      <td>0</td>\n",
              "      <td>0</td>\n",
              "      <td>2500</td>\n",
              "      <td>5</td>\n",
              "      <td>2010</td>\n",
              "      <td>266500</td>\n",
              "    </tr>\n",
              "    <tr>\n",
              "      <th>1458</th>\n",
              "      <td>1459</td>\n",
              "      <td>20</td>\n",
              "      <td>68.0</td>\n",
              "      <td>9717</td>\n",
              "      <td>5</td>\n",
              "      <td>6</td>\n",
              "      <td>1950</td>\n",
              "      <td>1996</td>\n",
              "      <td>0.0</td>\n",
              "      <td>49</td>\n",
              "      <td>...</td>\n",
              "      <td>366</td>\n",
              "      <td>0</td>\n",
              "      <td>112</td>\n",
              "      <td>0</td>\n",
              "      <td>0</td>\n",
              "      <td>0</td>\n",
              "      <td>0</td>\n",
              "      <td>4</td>\n",
              "      <td>2010</td>\n",
              "      <td>142125</td>\n",
              "    </tr>\n",
              "    <tr>\n",
              "      <th>1459</th>\n",
              "      <td>1460</td>\n",
              "      <td>20</td>\n",
              "      <td>75.0</td>\n",
              "      <td>9937</td>\n",
              "      <td>5</td>\n",
              "      <td>6</td>\n",
              "      <td>1965</td>\n",
              "      <td>1965</td>\n",
              "      <td>0.0</td>\n",
              "      <td>830</td>\n",
              "      <td>...</td>\n",
              "      <td>736</td>\n",
              "      <td>68</td>\n",
              "      <td>0</td>\n",
              "      <td>0</td>\n",
              "      <td>0</td>\n",
              "      <td>0</td>\n",
              "      <td>0</td>\n",
              "      <td>6</td>\n",
              "      <td>2008</td>\n",
              "      <td>147500</td>\n",
              "    </tr>\n",
              "  </tbody>\n",
              "</table>\n",
              "<p>1460 rows × 38 columns</p>\n",
              "</div>\n",
              "      <button class=\"colab-df-convert\" onclick=\"convertToInteractive('df-ee41232f-625b-4a4b-852b-2ae42eef2366')\"\n",
              "              title=\"Convert this dataframe to an interactive table.\"\n",
              "              style=\"display:none;\">\n",
              "        \n",
              "  <svg xmlns=\"http://www.w3.org/2000/svg\" height=\"24px\"viewBox=\"0 0 24 24\"\n",
              "       width=\"24px\">\n",
              "    <path d=\"M0 0h24v24H0V0z\" fill=\"none\"/>\n",
              "    <path d=\"M18.56 5.44l.94 2.06.94-2.06 2.06-.94-2.06-.94-.94-2.06-.94 2.06-2.06.94zm-11 1L8.5 8.5l.94-2.06 2.06-.94-2.06-.94L8.5 2.5l-.94 2.06-2.06.94zm10 10l.94 2.06.94-2.06 2.06-.94-2.06-.94-.94-2.06-.94 2.06-2.06.94z\"/><path d=\"M17.41 7.96l-1.37-1.37c-.4-.4-.92-.59-1.43-.59-.52 0-1.04.2-1.43.59L10.3 9.45l-7.72 7.72c-.78.78-.78 2.05 0 2.83L4 21.41c.39.39.9.59 1.41.59.51 0 1.02-.2 1.41-.59l7.78-7.78 2.81-2.81c.8-.78.8-2.07 0-2.86zM5.41 20L4 18.59l7.72-7.72 1.47 1.35L5.41 20z\"/>\n",
              "  </svg>\n",
              "      </button>\n",
              "      \n",
              "  <style>\n",
              "    .colab-df-container {\n",
              "      display:flex;\n",
              "      flex-wrap:wrap;\n",
              "      gap: 12px;\n",
              "    }\n",
              "\n",
              "    .colab-df-convert {\n",
              "      background-color: #E8F0FE;\n",
              "      border: none;\n",
              "      border-radius: 50%;\n",
              "      cursor: pointer;\n",
              "      display: none;\n",
              "      fill: #1967D2;\n",
              "      height: 32px;\n",
              "      padding: 0 0 0 0;\n",
              "      width: 32px;\n",
              "    }\n",
              "\n",
              "    .colab-df-convert:hover {\n",
              "      background-color: #E2EBFA;\n",
              "      box-shadow: 0px 1px 2px rgba(60, 64, 67, 0.3), 0px 1px 3px 1px rgba(60, 64, 67, 0.15);\n",
              "      fill: #174EA6;\n",
              "    }\n",
              "\n",
              "    [theme=dark] .colab-df-convert {\n",
              "      background-color: #3B4455;\n",
              "      fill: #D2E3FC;\n",
              "    }\n",
              "\n",
              "    [theme=dark] .colab-df-convert:hover {\n",
              "      background-color: #434B5C;\n",
              "      box-shadow: 0px 1px 3px 1px rgba(0, 0, 0, 0.15);\n",
              "      filter: drop-shadow(0px 1px 2px rgba(0, 0, 0, 0.3));\n",
              "      fill: #FFFFFF;\n",
              "    }\n",
              "  </style>\n",
              "\n",
              "      <script>\n",
              "        const buttonEl =\n",
              "          document.querySelector('#df-ee41232f-625b-4a4b-852b-2ae42eef2366 button.colab-df-convert');\n",
              "        buttonEl.style.display =\n",
              "          google.colab.kernel.accessAllowed ? 'block' : 'none';\n",
              "\n",
              "        async function convertToInteractive(key) {\n",
              "          const element = document.querySelector('#df-ee41232f-625b-4a4b-852b-2ae42eef2366');\n",
              "          const dataTable =\n",
              "            await google.colab.kernel.invokeFunction('convertToInteractive',\n",
              "                                                     [key], {});\n",
              "          if (!dataTable) return;\n",
              "\n",
              "          const docLinkHtml = 'Like what you see? Visit the ' +\n",
              "            '<a target=\"_blank\" href=https://colab.research.google.com/notebooks/data_table.ipynb>data table notebook</a>'\n",
              "            + ' to learn more about interactive tables.';\n",
              "          element.innerHTML = '';\n",
              "          dataTable['output_type'] = 'display_data';\n",
              "          await google.colab.output.renderOutput(dataTable, element);\n",
              "          const docLink = document.createElement('div');\n",
              "          docLink.innerHTML = docLinkHtml;\n",
              "          element.appendChild(docLink);\n",
              "        }\n",
              "      </script>\n",
              "    </div>\n",
              "  </div>\n",
              "  "
            ]
          },
          "metadata": {},
          "execution_count": 42
        }
      ]
    },
    {
      "cell_type": "markdown",
      "source": [
        "We will normilize the numeric columns that have areas and are in different size class. We do not want to do that for columns that just count."
      ],
      "metadata": {
        "id": "FSoqyDjIMDcf"
      }
    },
    {
      "cell_type": "code",
      "source": [
        "ds['LotFrontage'] = ds['LotFrontage']  / ds['LotFrontage'].abs().max()\n",
        "ds['LotArea'] = ds['LotArea']  / ds['LotArea'].abs().max()\n",
        "ds['MasVnrArea'] = ds['MasVnrArea']  / ds['MasVnrArea'].abs().max()\n",
        "ds['BsmtFinSF1'] = ds['BsmtFinSF1']  / ds['BsmtFinSF1'].abs().max()\n",
        "ds['BsmtFinSF2'] = ds['BsmtFinSF2']  / ds['BsmtFinSF2'].abs().max()\n",
        "ds['BsmtUnfSF'] = ds['BsmtUnfSF']  / ds['BsmtUnfSF'].abs().max()\n",
        "ds['TotalBsmtSF'] = ds['TotalBsmtSF']  / ds['TotalBsmtSF'].abs().max()\n",
        "ds['1stFlrSF'] = ds['1stFlrSF']  / ds['1stFlrSF'].abs().max()\n",
        "ds['2ndFlrSF'] = ds['2ndFlrSF']  / ds['2ndFlrSF'].abs().max()\n",
        "ds['GrLivArea'] = ds['GrLivArea']  / ds['GrLivArea'].abs().max()\n",
        "ds['GarageArea'] = ds['GarageArea']  / ds['GarageArea'].abs().max()\n",
        "ds['WoodDeckSF'] = ds['WoodDeckSF']  / ds['WoodDeckSF'].abs().max()\n",
        "ds['EnclosedPorch'] = ds['EnclosedPorch']  / ds['EnclosedPorch'].abs().max()\n",
        "ds['3SsnPorch'] = ds['3SsnPorch']  / ds['3SsnPorch'].abs().max()\n",
        "ds['ScreenPorch'] = ds['ScreenPorch']  / ds['ScreenPorch'].abs().max()\n",
        "ds['PoolArea'] = ds['PoolArea']  / ds['PoolArea'].abs().max()"
      ],
      "metadata": {
        "id": "hLCPWpAWMMwy"
      },
      "execution_count": 43,
      "outputs": []
    },
    {
      "cell_type": "markdown",
      "source": [
        "dealing with categorical values:\n",
        "Dealing with categorical values it is useful to put them values 1-2-3 or dummy values. For variables that the categories are scaling (such as level of quality etc) we will use the former one and for variables that the categories do not have a correlation we will use the latter one."
      ],
      "metadata": {
        "id": "mBT_OBAYMSUY"
      }
    },
    {
      "cell_type": "code",
      "source": [
        "ds['MSZoning'].unique()"
      ],
      "metadata": {
        "id": "egjuzlAqMSrK",
        "colab": {
          "base_uri": "https://localhost:8080/"
        },
        "outputId": "255cc086-884a-4797-e555-d48ca2813152"
      },
      "execution_count": 44,
      "outputs": [
        {
          "output_type": "execute_result",
          "data": {
            "text/plain": [
              "array(['RL', 'RM', 'C (all)', 'FV', 'RH'], dtype=object)"
            ]
          },
          "metadata": {},
          "execution_count": 44
        }
      ]
    },
    {
      "cell_type": "markdown",
      "source": [
        "In the 'MSZoning' column, we want A to be 0, FV to be 1, Rp to be 2, RL to be 3, Rm to be 4, RH to be 5, C to be 6 and I to be 7.\n",
        "Respectively, for the other columns"
      ],
      "metadata": {
        "id": "IjIHXOmYSUcq"
      }
    },
    {
      "cell_type": "code",
      "source": [
        "from sklearn.preprocessing import OrdinalEncoder"
      ],
      "metadata": {
        "id": "0hN1NGA2SUxc"
      },
      "execution_count": 45,
      "outputs": []
    },
    {
      "cell_type": "code",
      "source": [
        "MSZoning_categories = ['A', 'FV', 'RP', 'RL', 'RM', 'RH', 'C (all)', 'I']\n",
        "ExterQual_categories = ['NA', 'Po', 'Fa', 'TA', 'Gd', 'Ex']\n",
        "ExterCond_categories = ['NA', 'Po', 'Fa', 'TA', 'Gd', 'Ex']\n",
        "BsmtCond_categories = ['NA', 'Po', 'Fa', 'TA', 'Gd', 'Ex']\n",
        "BsmtExposure_categories = ['NA', 'No', 'Mn', 'Av', 'Gd']\n",
        "BsmtFinType1_categories = ['NA', 'Unf', 'LwQ', 'Rec', 'BLQ', 'ALQ', 'GLQ']\n",
        "HeatingQC_categories = ['Po', 'Fa', 'TA', 'Gd', 'Ex']\n",
        "KitchenQual_categories = ['Po', 'Fa', 'TA', 'Gd', 'Ex']\n",
        "GarageType_categories = ['NA', 'Detchd', 'CarPort', 'BuiltIn', 'Basment', 'Attchd', '2Types']\n",
        "GarageQual_categories = ['NA', 'Po', 'Fa', 'TA', 'Gd', 'Ex']\n",
        "\n",
        "encoder = OrdinalEncoder(categories=[MSZoning_categories, ExterQual_categories, ExterCond_categories, BsmtCond_categories, BsmtExposure_categories, BsmtFinType1_categories, HeatingQC_categories, KitchenQual_categories, GarageType_categories, GarageQual_categories])\n",
        "ar = encoder.fit_transform(ds[['MSZoning', 'ExterQual', 'ExterCond', 'BsmtCond', 'BsmtExposure', 'BsmtFinType1', 'HeatingQC', 'KitchenQual', 'GarageType', 'GarageQual']])"
      ],
      "metadata": {
        "id": "petW_Av0SayT"
      },
      "execution_count": 46,
      "outputs": []
    },
    {
      "cell_type": "code",
      "source": [
        "# Now we need to replace the new values to our original dataset based on the category\n",
        "for i, c in enumerate(ds):\n",
        "    ds['MSZoning'][i] = ar[i][0]\n",
        "    ds['ExterQual'][i] = ar[i][1]\n",
        "    ds['ExterCond'][i] = ar[i][2]\n",
        "    ds['BsmtCond'][i] = ar[i][3]\n",
        "    ds['BsmtExposure'][i] = ar[i][4]\n",
        "    ds['BsmtFinType1'][i] = ar[i][5]\n",
        "    ds['HeatingQC'][i] = ar[i][6]\n",
        "    ds['KitchenQual'][i] = ar[i][7]\n",
        "    ds['GarageType'][i] = ar[i][8]\n",
        "    ds['GarageQual'][i] = ar[i][9]\n",
        "    "
      ],
      "metadata": {
        "id": "JC9_9g0-ebz4",
        "colab": {
          "base_uri": "https://localhost:8080/"
        },
        "outputId": "cbb37a19-c2ef-4b7c-ebce-7f3b974e3e45"
      },
      "execution_count": 47,
      "outputs": [
        {
          "output_type": "stream",
          "name": "stderr",
          "text": [
            "/usr/local/lib/python3.7/dist-packages/ipykernel_launcher.py:3: SettingWithCopyWarning: \n",
            "A value is trying to be set on a copy of a slice from a DataFrame\n",
            "\n",
            "See the caveats in the documentation: https://pandas.pydata.org/pandas-docs/stable/user_guide/indexing.html#returning-a-view-versus-a-copy\n",
            "  This is separate from the ipykernel package so we can avoid doing imports until\n",
            "/usr/local/lib/python3.7/dist-packages/ipykernel_launcher.py:4: SettingWithCopyWarning: \n",
            "A value is trying to be set on a copy of a slice from a DataFrame\n",
            "\n",
            "See the caveats in the documentation: https://pandas.pydata.org/pandas-docs/stable/user_guide/indexing.html#returning-a-view-versus-a-copy\n",
            "  after removing the cwd from sys.path.\n",
            "/usr/local/lib/python3.7/dist-packages/ipykernel_launcher.py:5: SettingWithCopyWarning: \n",
            "A value is trying to be set on a copy of a slice from a DataFrame\n",
            "\n",
            "See the caveats in the documentation: https://pandas.pydata.org/pandas-docs/stable/user_guide/indexing.html#returning-a-view-versus-a-copy\n",
            "  \"\"\"\n",
            "/usr/local/lib/python3.7/dist-packages/ipykernel_launcher.py:6: SettingWithCopyWarning: \n",
            "A value is trying to be set on a copy of a slice from a DataFrame\n",
            "\n",
            "See the caveats in the documentation: https://pandas.pydata.org/pandas-docs/stable/user_guide/indexing.html#returning-a-view-versus-a-copy\n",
            "  \n",
            "/usr/local/lib/python3.7/dist-packages/ipykernel_launcher.py:7: SettingWithCopyWarning: \n",
            "A value is trying to be set on a copy of a slice from a DataFrame\n",
            "\n",
            "See the caveats in the documentation: https://pandas.pydata.org/pandas-docs/stable/user_guide/indexing.html#returning-a-view-versus-a-copy\n",
            "  import sys\n",
            "/usr/local/lib/python3.7/dist-packages/ipykernel_launcher.py:8: SettingWithCopyWarning: \n",
            "A value is trying to be set on a copy of a slice from a DataFrame\n",
            "\n",
            "See the caveats in the documentation: https://pandas.pydata.org/pandas-docs/stable/user_guide/indexing.html#returning-a-view-versus-a-copy\n",
            "  \n",
            "/usr/local/lib/python3.7/dist-packages/ipykernel_launcher.py:9: SettingWithCopyWarning: \n",
            "A value is trying to be set on a copy of a slice from a DataFrame\n",
            "\n",
            "See the caveats in the documentation: https://pandas.pydata.org/pandas-docs/stable/user_guide/indexing.html#returning-a-view-versus-a-copy\n",
            "  if __name__ == '__main__':\n",
            "/usr/local/lib/python3.7/dist-packages/ipykernel_launcher.py:10: SettingWithCopyWarning: \n",
            "A value is trying to be set on a copy of a slice from a DataFrame\n",
            "\n",
            "See the caveats in the documentation: https://pandas.pydata.org/pandas-docs/stable/user_guide/indexing.html#returning-a-view-versus-a-copy\n",
            "  # Remove the CWD from sys.path while we load stuff.\n",
            "/usr/local/lib/python3.7/dist-packages/ipykernel_launcher.py:11: SettingWithCopyWarning: \n",
            "A value is trying to be set on a copy of a slice from a DataFrame\n",
            "\n",
            "See the caveats in the documentation: https://pandas.pydata.org/pandas-docs/stable/user_guide/indexing.html#returning-a-view-versus-a-copy\n",
            "  # This is added back by InteractiveShellApp.init_path()\n",
            "/usr/local/lib/python3.7/dist-packages/ipykernel_launcher.py:12: SettingWithCopyWarning: \n",
            "A value is trying to be set on a copy of a slice from a DataFrame\n",
            "\n",
            "See the caveats in the documentation: https://pandas.pydata.org/pandas-docs/stable/user_guide/indexing.html#returning-a-view-versus-a-copy\n",
            "  if sys.path[0] == '':\n"
          ]
        }
      ]
    },
    {
      "cell_type": "markdown",
      "source": [
        "We will use one hot encoding (question 4) for the categorical columns, that do not have any ranking for the category values. Examples of these columns are:\n",
        "1. RoofMatl\n",
        "2. RoofMatl\n",
        "3. Foundation\n"
      ],
      "metadata": {
        "id": "gUAybesnugHH"
      }
    },
    {
      "cell_type": "code",
      "source": [
        "ohe_ds = ds.copy()\n",
        "ohe_ds = ohe_ds"
      ],
      "metadata": {
        "id": "NQ7-97Bq8vPL"
      },
      "execution_count": 48,
      "outputs": []
    },
    {
      "cell_type": "code",
      "source": [
        "# With pandas, we will convert these 3 features to one-hot-encoding, since these features do not have raking values.\n",
        "ds_ohe = pd.get_dummies(ds, columns=[\"RoofMatl\", 'MasVnrType', 'Foundation'])\n",
        "ds_ohe"
      ],
      "metadata": {
        "id": "tkuri2nN8vhi",
        "colab": {
          "base_uri": "https://localhost:8080/",
          "height": 488
        },
        "outputId": "1c889cdf-bca0-4166-f2d8-5f5c65386143"
      },
      "execution_count": 49,
      "outputs": [
        {
          "output_type": "execute_result",
          "data": {
            "text/plain": [
              "        Id  MSSubClass MSZoning  LotFrontage   LotArea Street LotShape  \\\n",
              "0        1          60      3.0     0.357143  0.039258   Pave      Reg   \n",
              "1        2          20      3.0     0.439560  0.044600   Pave      Reg   \n",
              "2        3          60      3.0     0.373626  0.052266   Pave      IR1   \n",
              "3        4          70      3.0     0.329670  0.044368   Pave      IR1   \n",
              "4        5          60      3.0     0.461538  0.066250   Pave      IR1   \n",
              "...    ...         ...      ...          ...       ...    ...      ...   \n",
              "1455  1456          60       RL     0.340659  0.036781   Pave      Reg   \n",
              "1456  1457          20       RL     0.467033  0.061209   Pave      Reg   \n",
              "1457  1458          70       RL     0.362637  0.042008   Pave      Reg   \n",
              "1458  1459          20       RL     0.373626  0.045144   Pave      Reg   \n",
              "1459  1460          20       RL     0.412088  0.046166   Pave      Reg   \n",
              "\n",
              "     LandContour Utilities LotConfig  ... MasVnrType_BrkCmn  \\\n",
              "0            Lvl    AllPub    Inside  ...                 0   \n",
              "1            Lvl    AllPub       FR2  ...                 0   \n",
              "2            Lvl    AllPub    Inside  ...                 0   \n",
              "3            Lvl    AllPub    Corner  ...                 0   \n",
              "4            Lvl    AllPub       FR2  ...                 0   \n",
              "...          ...       ...       ...  ...               ...   \n",
              "1455         Lvl    AllPub    Inside  ...                 0   \n",
              "1456         Lvl    AllPub    Inside  ...                 0   \n",
              "1457         Lvl    AllPub    Inside  ...                 0   \n",
              "1458         Lvl    AllPub    Inside  ...                 0   \n",
              "1459         Lvl    AllPub    Inside  ...                 0   \n",
              "\n",
              "     MasVnrType_BrkFace MasVnrType_None MasVnrType_Stone Foundation_BrkTil  \\\n",
              "0                     1               0                0                 0   \n",
              "1                     0               1                0                 0   \n",
              "2                     1               0                0                 0   \n",
              "3                     0               1                0                 1   \n",
              "4                     1               0                0                 0   \n",
              "...                 ...             ...              ...               ...   \n",
              "1455                  0               1                0                 0   \n",
              "1456                  0               0                1                 0   \n",
              "1457                  0               1                0                 0   \n",
              "1458                  0               1                0                 0   \n",
              "1459                  0               1                0                 0   \n",
              "\n",
              "     Foundation_CBlock  Foundation_PConc  Foundation_Slab  Foundation_Stone  \\\n",
              "0                    0                 1                0                 0   \n",
              "1                    1                 0                0                 0   \n",
              "2                    0                 1                0                 0   \n",
              "3                    0                 0                0                 0   \n",
              "4                    0                 1                0                 0   \n",
              "...                ...               ...              ...               ...   \n",
              "1455                 0                 1                0                 0   \n",
              "1456                 1                 0                0                 0   \n",
              "1457                 0                 0                0                 1   \n",
              "1458                 1                 0                0                 0   \n",
              "1459                 1                 0                0                 0   \n",
              "\n",
              "      Foundation_Wood  \n",
              "0                   0  \n",
              "1                   0  \n",
              "2                   0  \n",
              "3                   0  \n",
              "4                   0  \n",
              "...               ...  \n",
              "1455                0  \n",
              "1456                0  \n",
              "1457                0  \n",
              "1458                0  \n",
              "1459                0  \n",
              "\n",
              "[1460 rows x 91 columns]"
            ],
            "text/html": [
              "\n",
              "  <div id=\"df-88b3c704-7ba5-4397-abf9-c2ba82b455f2\">\n",
              "    <div class=\"colab-df-container\">\n",
              "      <div>\n",
              "<style scoped>\n",
              "    .dataframe tbody tr th:only-of-type {\n",
              "        vertical-align: middle;\n",
              "    }\n",
              "\n",
              "    .dataframe tbody tr th {\n",
              "        vertical-align: top;\n",
              "    }\n",
              "\n",
              "    .dataframe thead th {\n",
              "        text-align: right;\n",
              "    }\n",
              "</style>\n",
              "<table border=\"1\" class=\"dataframe\">\n",
              "  <thead>\n",
              "    <tr style=\"text-align: right;\">\n",
              "      <th></th>\n",
              "      <th>Id</th>\n",
              "      <th>MSSubClass</th>\n",
              "      <th>MSZoning</th>\n",
              "      <th>LotFrontage</th>\n",
              "      <th>LotArea</th>\n",
              "      <th>Street</th>\n",
              "      <th>LotShape</th>\n",
              "      <th>LandContour</th>\n",
              "      <th>Utilities</th>\n",
              "      <th>LotConfig</th>\n",
              "      <th>...</th>\n",
              "      <th>MasVnrType_BrkCmn</th>\n",
              "      <th>MasVnrType_BrkFace</th>\n",
              "      <th>MasVnrType_None</th>\n",
              "      <th>MasVnrType_Stone</th>\n",
              "      <th>Foundation_BrkTil</th>\n",
              "      <th>Foundation_CBlock</th>\n",
              "      <th>Foundation_PConc</th>\n",
              "      <th>Foundation_Slab</th>\n",
              "      <th>Foundation_Stone</th>\n",
              "      <th>Foundation_Wood</th>\n",
              "    </tr>\n",
              "  </thead>\n",
              "  <tbody>\n",
              "    <tr>\n",
              "      <th>0</th>\n",
              "      <td>1</td>\n",
              "      <td>60</td>\n",
              "      <td>3.0</td>\n",
              "      <td>0.357143</td>\n",
              "      <td>0.039258</td>\n",
              "      <td>Pave</td>\n",
              "      <td>Reg</td>\n",
              "      <td>Lvl</td>\n",
              "      <td>AllPub</td>\n",
              "      <td>Inside</td>\n",
              "      <td>...</td>\n",
              "      <td>0</td>\n",
              "      <td>1</td>\n",
              "      <td>0</td>\n",
              "      <td>0</td>\n",
              "      <td>0</td>\n",
              "      <td>0</td>\n",
              "      <td>1</td>\n",
              "      <td>0</td>\n",
              "      <td>0</td>\n",
              "      <td>0</td>\n",
              "    </tr>\n",
              "    <tr>\n",
              "      <th>1</th>\n",
              "      <td>2</td>\n",
              "      <td>20</td>\n",
              "      <td>3.0</td>\n",
              "      <td>0.439560</td>\n",
              "      <td>0.044600</td>\n",
              "      <td>Pave</td>\n",
              "      <td>Reg</td>\n",
              "      <td>Lvl</td>\n",
              "      <td>AllPub</td>\n",
              "      <td>FR2</td>\n",
              "      <td>...</td>\n",
              "      <td>0</td>\n",
              "      <td>0</td>\n",
              "      <td>1</td>\n",
              "      <td>0</td>\n",
              "      <td>0</td>\n",
              "      <td>1</td>\n",
              "      <td>0</td>\n",
              "      <td>0</td>\n",
              "      <td>0</td>\n",
              "      <td>0</td>\n",
              "    </tr>\n",
              "    <tr>\n",
              "      <th>2</th>\n",
              "      <td>3</td>\n",
              "      <td>60</td>\n",
              "      <td>3.0</td>\n",
              "      <td>0.373626</td>\n",
              "      <td>0.052266</td>\n",
              "      <td>Pave</td>\n",
              "      <td>IR1</td>\n",
              "      <td>Lvl</td>\n",
              "      <td>AllPub</td>\n",
              "      <td>Inside</td>\n",
              "      <td>...</td>\n",
              "      <td>0</td>\n",
              "      <td>1</td>\n",
              "      <td>0</td>\n",
              "      <td>0</td>\n",
              "      <td>0</td>\n",
              "      <td>0</td>\n",
              "      <td>1</td>\n",
              "      <td>0</td>\n",
              "      <td>0</td>\n",
              "      <td>0</td>\n",
              "    </tr>\n",
              "    <tr>\n",
              "      <th>3</th>\n",
              "      <td>4</td>\n",
              "      <td>70</td>\n",
              "      <td>3.0</td>\n",
              "      <td>0.329670</td>\n",
              "      <td>0.044368</td>\n",
              "      <td>Pave</td>\n",
              "      <td>IR1</td>\n",
              "      <td>Lvl</td>\n",
              "      <td>AllPub</td>\n",
              "      <td>Corner</td>\n",
              "      <td>...</td>\n",
              "      <td>0</td>\n",
              "      <td>0</td>\n",
              "      <td>1</td>\n",
              "      <td>0</td>\n",
              "      <td>1</td>\n",
              "      <td>0</td>\n",
              "      <td>0</td>\n",
              "      <td>0</td>\n",
              "      <td>0</td>\n",
              "      <td>0</td>\n",
              "    </tr>\n",
              "    <tr>\n",
              "      <th>4</th>\n",
              "      <td>5</td>\n",
              "      <td>60</td>\n",
              "      <td>3.0</td>\n",
              "      <td>0.461538</td>\n",
              "      <td>0.066250</td>\n",
              "      <td>Pave</td>\n",
              "      <td>IR1</td>\n",
              "      <td>Lvl</td>\n",
              "      <td>AllPub</td>\n",
              "      <td>FR2</td>\n",
              "      <td>...</td>\n",
              "      <td>0</td>\n",
              "      <td>1</td>\n",
              "      <td>0</td>\n",
              "      <td>0</td>\n",
              "      <td>0</td>\n",
              "      <td>0</td>\n",
              "      <td>1</td>\n",
              "      <td>0</td>\n",
              "      <td>0</td>\n",
              "      <td>0</td>\n",
              "    </tr>\n",
              "    <tr>\n",
              "      <th>...</th>\n",
              "      <td>...</td>\n",
              "      <td>...</td>\n",
              "      <td>...</td>\n",
              "      <td>...</td>\n",
              "      <td>...</td>\n",
              "      <td>...</td>\n",
              "      <td>...</td>\n",
              "      <td>...</td>\n",
              "      <td>...</td>\n",
              "      <td>...</td>\n",
              "      <td>...</td>\n",
              "      <td>...</td>\n",
              "      <td>...</td>\n",
              "      <td>...</td>\n",
              "      <td>...</td>\n",
              "      <td>...</td>\n",
              "      <td>...</td>\n",
              "      <td>...</td>\n",
              "      <td>...</td>\n",
              "      <td>...</td>\n",
              "      <td>...</td>\n",
              "    </tr>\n",
              "    <tr>\n",
              "      <th>1455</th>\n",
              "      <td>1456</td>\n",
              "      <td>60</td>\n",
              "      <td>RL</td>\n",
              "      <td>0.340659</td>\n",
              "      <td>0.036781</td>\n",
              "      <td>Pave</td>\n",
              "      <td>Reg</td>\n",
              "      <td>Lvl</td>\n",
              "      <td>AllPub</td>\n",
              "      <td>Inside</td>\n",
              "      <td>...</td>\n",
              "      <td>0</td>\n",
              "      <td>0</td>\n",
              "      <td>1</td>\n",
              "      <td>0</td>\n",
              "      <td>0</td>\n",
              "      <td>0</td>\n",
              "      <td>1</td>\n",
              "      <td>0</td>\n",
              "      <td>0</td>\n",
              "      <td>0</td>\n",
              "    </tr>\n",
              "    <tr>\n",
              "      <th>1456</th>\n",
              "      <td>1457</td>\n",
              "      <td>20</td>\n",
              "      <td>RL</td>\n",
              "      <td>0.467033</td>\n",
              "      <td>0.061209</td>\n",
              "      <td>Pave</td>\n",
              "      <td>Reg</td>\n",
              "      <td>Lvl</td>\n",
              "      <td>AllPub</td>\n",
              "      <td>Inside</td>\n",
              "      <td>...</td>\n",
              "      <td>0</td>\n",
              "      <td>0</td>\n",
              "      <td>0</td>\n",
              "      <td>1</td>\n",
              "      <td>0</td>\n",
              "      <td>1</td>\n",
              "      <td>0</td>\n",
              "      <td>0</td>\n",
              "      <td>0</td>\n",
              "      <td>0</td>\n",
              "    </tr>\n",
              "    <tr>\n",
              "      <th>1457</th>\n",
              "      <td>1458</td>\n",
              "      <td>70</td>\n",
              "      <td>RL</td>\n",
              "      <td>0.362637</td>\n",
              "      <td>0.042008</td>\n",
              "      <td>Pave</td>\n",
              "      <td>Reg</td>\n",
              "      <td>Lvl</td>\n",
              "      <td>AllPub</td>\n",
              "      <td>Inside</td>\n",
              "      <td>...</td>\n",
              "      <td>0</td>\n",
              "      <td>0</td>\n",
              "      <td>1</td>\n",
              "      <td>0</td>\n",
              "      <td>0</td>\n",
              "      <td>0</td>\n",
              "      <td>0</td>\n",
              "      <td>0</td>\n",
              "      <td>1</td>\n",
              "      <td>0</td>\n",
              "    </tr>\n",
              "    <tr>\n",
              "      <th>1458</th>\n",
              "      <td>1459</td>\n",
              "      <td>20</td>\n",
              "      <td>RL</td>\n",
              "      <td>0.373626</td>\n",
              "      <td>0.045144</td>\n",
              "      <td>Pave</td>\n",
              "      <td>Reg</td>\n",
              "      <td>Lvl</td>\n",
              "      <td>AllPub</td>\n",
              "      <td>Inside</td>\n",
              "      <td>...</td>\n",
              "      <td>0</td>\n",
              "      <td>0</td>\n",
              "      <td>1</td>\n",
              "      <td>0</td>\n",
              "      <td>0</td>\n",
              "      <td>1</td>\n",
              "      <td>0</td>\n",
              "      <td>0</td>\n",
              "      <td>0</td>\n",
              "      <td>0</td>\n",
              "    </tr>\n",
              "    <tr>\n",
              "      <th>1459</th>\n",
              "      <td>1460</td>\n",
              "      <td>20</td>\n",
              "      <td>RL</td>\n",
              "      <td>0.412088</td>\n",
              "      <td>0.046166</td>\n",
              "      <td>Pave</td>\n",
              "      <td>Reg</td>\n",
              "      <td>Lvl</td>\n",
              "      <td>AllPub</td>\n",
              "      <td>Inside</td>\n",
              "      <td>...</td>\n",
              "      <td>0</td>\n",
              "      <td>0</td>\n",
              "      <td>1</td>\n",
              "      <td>0</td>\n",
              "      <td>0</td>\n",
              "      <td>1</td>\n",
              "      <td>0</td>\n",
              "      <td>0</td>\n",
              "      <td>0</td>\n",
              "      <td>0</td>\n",
              "    </tr>\n",
              "  </tbody>\n",
              "</table>\n",
              "<p>1460 rows × 91 columns</p>\n",
              "</div>\n",
              "      <button class=\"colab-df-convert\" onclick=\"convertToInteractive('df-88b3c704-7ba5-4397-abf9-c2ba82b455f2')\"\n",
              "              title=\"Convert this dataframe to an interactive table.\"\n",
              "              style=\"display:none;\">\n",
              "        \n",
              "  <svg xmlns=\"http://www.w3.org/2000/svg\" height=\"24px\"viewBox=\"0 0 24 24\"\n",
              "       width=\"24px\">\n",
              "    <path d=\"M0 0h24v24H0V0z\" fill=\"none\"/>\n",
              "    <path d=\"M18.56 5.44l.94 2.06.94-2.06 2.06-.94-2.06-.94-.94-2.06-.94 2.06-2.06.94zm-11 1L8.5 8.5l.94-2.06 2.06-.94-2.06-.94L8.5 2.5l-.94 2.06-2.06.94zm10 10l.94 2.06.94-2.06 2.06-.94-2.06-.94-.94-2.06-.94 2.06-2.06.94z\"/><path d=\"M17.41 7.96l-1.37-1.37c-.4-.4-.92-.59-1.43-.59-.52 0-1.04.2-1.43.59L10.3 9.45l-7.72 7.72c-.78.78-.78 2.05 0 2.83L4 21.41c.39.39.9.59 1.41.59.51 0 1.02-.2 1.41-.59l7.78-7.78 2.81-2.81c.8-.78.8-2.07 0-2.86zM5.41 20L4 18.59l7.72-7.72 1.47 1.35L5.41 20z\"/>\n",
              "  </svg>\n",
              "      </button>\n",
              "      \n",
              "  <style>\n",
              "    .colab-df-container {\n",
              "      display:flex;\n",
              "      flex-wrap:wrap;\n",
              "      gap: 12px;\n",
              "    }\n",
              "\n",
              "    .colab-df-convert {\n",
              "      background-color: #E8F0FE;\n",
              "      border: none;\n",
              "      border-radius: 50%;\n",
              "      cursor: pointer;\n",
              "      display: none;\n",
              "      fill: #1967D2;\n",
              "      height: 32px;\n",
              "      padding: 0 0 0 0;\n",
              "      width: 32px;\n",
              "    }\n",
              "\n",
              "    .colab-df-convert:hover {\n",
              "      background-color: #E2EBFA;\n",
              "      box-shadow: 0px 1px 2px rgba(60, 64, 67, 0.3), 0px 1px 3px 1px rgba(60, 64, 67, 0.15);\n",
              "      fill: #174EA6;\n",
              "    }\n",
              "\n",
              "    [theme=dark] .colab-df-convert {\n",
              "      background-color: #3B4455;\n",
              "      fill: #D2E3FC;\n",
              "    }\n",
              "\n",
              "    [theme=dark] .colab-df-convert:hover {\n",
              "      background-color: #434B5C;\n",
              "      box-shadow: 0px 1px 3px 1px rgba(0, 0, 0, 0.15);\n",
              "      filter: drop-shadow(0px 1px 2px rgba(0, 0, 0, 0.3));\n",
              "      fill: #FFFFFF;\n",
              "    }\n",
              "  </style>\n",
              "\n",
              "      <script>\n",
              "        const buttonEl =\n",
              "          document.querySelector('#df-88b3c704-7ba5-4397-abf9-c2ba82b455f2 button.colab-df-convert');\n",
              "        buttonEl.style.display =\n",
              "          google.colab.kernel.accessAllowed ? 'block' : 'none';\n",
              "\n",
              "        async function convertToInteractive(key) {\n",
              "          const element = document.querySelector('#df-88b3c704-7ba5-4397-abf9-c2ba82b455f2');\n",
              "          const dataTable =\n",
              "            await google.colab.kernel.invokeFunction('convertToInteractive',\n",
              "                                                     [key], {});\n",
              "          if (!dataTable) return;\n",
              "\n",
              "          const docLinkHtml = 'Like what you see? Visit the ' +\n",
              "            '<a target=\"_blank\" href=https://colab.research.google.com/notebooks/data_table.ipynb>data table notebook</a>'\n",
              "            + ' to learn more about interactive tables.';\n",
              "          element.innerHTML = '';\n",
              "          dataTable['output_type'] = 'display_data';\n",
              "          await google.colab.output.renderOutput(dataTable, element);\n",
              "          const docLink = document.createElement('div');\n",
              "          docLink.innerHTML = docLinkHtml;\n",
              "          element.appendChild(docLink);\n",
              "        }\n",
              "      </script>\n",
              "    </div>\n",
              "  </div>\n",
              "  "
            ]
          },
          "metadata": {},
          "execution_count": 49
        }
      ]
    },
    {
      "cell_type": "markdown",
      "source": [
        "Visualize the results for feature MasVnrType"
      ],
      "metadata": {
        "id": "vuu8qpvT9LK3"
      }
    },
    {
      "cell_type": "code",
      "source": [
        "# Find the columns that have the dummy variables of MasVnrType\n",
        "MasVnrType_cols = [col for col in ds_ohe.columns if 'MasVnrType' in col]\n",
        "MasVnrType_cols"
      ],
      "metadata": {
        "id": "Eib1SIrfuO3M",
        "colab": {
          "base_uri": "https://localhost:8080/"
        },
        "outputId": "5b7ef920-eeaf-438e-ea5b-31f5f9ee436f"
      },
      "execution_count": 50,
      "outputs": [
        {
          "output_type": "execute_result",
          "data": {
            "text/plain": [
              "['MasVnrType_BrkCmn',\n",
              " 'MasVnrType_BrkFace',\n",
              " 'MasVnrType_None',\n",
              " 'MasVnrType_Stone']"
            ]
          },
          "metadata": {},
          "execution_count": 50
        }
      ]
    },
    {
      "cell_type": "code",
      "source": [
        "# Keep only the columns with the dummy variables of MasVnrType\n",
        "dsMasVnrType = ds_ohe.loc[:, ds_ohe.columns.str.contains('MasVnrType')]\n",
        "dsMasVnrType"
      ],
      "metadata": {
        "id": "USxlGmQZuQmz",
        "colab": {
          "base_uri": "https://localhost:8080/",
          "height": 424
        },
        "outputId": "2213b8ad-c7ce-4520-feb1-bdd2537cf643"
      },
      "execution_count": 51,
      "outputs": [
        {
          "output_type": "execute_result",
          "data": {
            "text/plain": [
              "      MasVnrType_BrkCmn  MasVnrType_BrkFace  MasVnrType_None  MasVnrType_Stone\n",
              "0                     0                   1                0                 0\n",
              "1                     0                   0                1                 0\n",
              "2                     0                   1                0                 0\n",
              "3                     0                   0                1                 0\n",
              "4                     0                   1                0                 0\n",
              "...                 ...                 ...              ...               ...\n",
              "1455                  0                   0                1                 0\n",
              "1456                  0                   0                0                 1\n",
              "1457                  0                   0                1                 0\n",
              "1458                  0                   0                1                 0\n",
              "1459                  0                   0                1                 0\n",
              "\n",
              "[1460 rows x 4 columns]"
            ],
            "text/html": [
              "\n",
              "  <div id=\"df-827aa089-cf89-4277-b0ae-ee364109c99b\">\n",
              "    <div class=\"colab-df-container\">\n",
              "      <div>\n",
              "<style scoped>\n",
              "    .dataframe tbody tr th:only-of-type {\n",
              "        vertical-align: middle;\n",
              "    }\n",
              "\n",
              "    .dataframe tbody tr th {\n",
              "        vertical-align: top;\n",
              "    }\n",
              "\n",
              "    .dataframe thead th {\n",
              "        text-align: right;\n",
              "    }\n",
              "</style>\n",
              "<table border=\"1\" class=\"dataframe\">\n",
              "  <thead>\n",
              "    <tr style=\"text-align: right;\">\n",
              "      <th></th>\n",
              "      <th>MasVnrType_BrkCmn</th>\n",
              "      <th>MasVnrType_BrkFace</th>\n",
              "      <th>MasVnrType_None</th>\n",
              "      <th>MasVnrType_Stone</th>\n",
              "    </tr>\n",
              "  </thead>\n",
              "  <tbody>\n",
              "    <tr>\n",
              "      <th>0</th>\n",
              "      <td>0</td>\n",
              "      <td>1</td>\n",
              "      <td>0</td>\n",
              "      <td>0</td>\n",
              "    </tr>\n",
              "    <tr>\n",
              "      <th>1</th>\n",
              "      <td>0</td>\n",
              "      <td>0</td>\n",
              "      <td>1</td>\n",
              "      <td>0</td>\n",
              "    </tr>\n",
              "    <tr>\n",
              "      <th>2</th>\n",
              "      <td>0</td>\n",
              "      <td>1</td>\n",
              "      <td>0</td>\n",
              "      <td>0</td>\n",
              "    </tr>\n",
              "    <tr>\n",
              "      <th>3</th>\n",
              "      <td>0</td>\n",
              "      <td>0</td>\n",
              "      <td>1</td>\n",
              "      <td>0</td>\n",
              "    </tr>\n",
              "    <tr>\n",
              "      <th>4</th>\n",
              "      <td>0</td>\n",
              "      <td>1</td>\n",
              "      <td>0</td>\n",
              "      <td>0</td>\n",
              "    </tr>\n",
              "    <tr>\n",
              "      <th>...</th>\n",
              "      <td>...</td>\n",
              "      <td>...</td>\n",
              "      <td>...</td>\n",
              "      <td>...</td>\n",
              "    </tr>\n",
              "    <tr>\n",
              "      <th>1455</th>\n",
              "      <td>0</td>\n",
              "      <td>0</td>\n",
              "      <td>1</td>\n",
              "      <td>0</td>\n",
              "    </tr>\n",
              "    <tr>\n",
              "      <th>1456</th>\n",
              "      <td>0</td>\n",
              "      <td>0</td>\n",
              "      <td>0</td>\n",
              "      <td>1</td>\n",
              "    </tr>\n",
              "    <tr>\n",
              "      <th>1457</th>\n",
              "      <td>0</td>\n",
              "      <td>0</td>\n",
              "      <td>1</td>\n",
              "      <td>0</td>\n",
              "    </tr>\n",
              "    <tr>\n",
              "      <th>1458</th>\n",
              "      <td>0</td>\n",
              "      <td>0</td>\n",
              "      <td>1</td>\n",
              "      <td>0</td>\n",
              "    </tr>\n",
              "    <tr>\n",
              "      <th>1459</th>\n",
              "      <td>0</td>\n",
              "      <td>0</td>\n",
              "      <td>1</td>\n",
              "      <td>0</td>\n",
              "    </tr>\n",
              "  </tbody>\n",
              "</table>\n",
              "<p>1460 rows × 4 columns</p>\n",
              "</div>\n",
              "      <button class=\"colab-df-convert\" onclick=\"convertToInteractive('df-827aa089-cf89-4277-b0ae-ee364109c99b')\"\n",
              "              title=\"Convert this dataframe to an interactive table.\"\n",
              "              style=\"display:none;\">\n",
              "        \n",
              "  <svg xmlns=\"http://www.w3.org/2000/svg\" height=\"24px\"viewBox=\"0 0 24 24\"\n",
              "       width=\"24px\">\n",
              "    <path d=\"M0 0h24v24H0V0z\" fill=\"none\"/>\n",
              "    <path d=\"M18.56 5.44l.94 2.06.94-2.06 2.06-.94-2.06-.94-.94-2.06-.94 2.06-2.06.94zm-11 1L8.5 8.5l.94-2.06 2.06-.94-2.06-.94L8.5 2.5l-.94 2.06-2.06.94zm10 10l.94 2.06.94-2.06 2.06-.94-2.06-.94-.94-2.06-.94 2.06-2.06.94z\"/><path d=\"M17.41 7.96l-1.37-1.37c-.4-.4-.92-.59-1.43-.59-.52 0-1.04.2-1.43.59L10.3 9.45l-7.72 7.72c-.78.78-.78 2.05 0 2.83L4 21.41c.39.39.9.59 1.41.59.51 0 1.02-.2 1.41-.59l7.78-7.78 2.81-2.81c.8-.78.8-2.07 0-2.86zM5.41 20L4 18.59l7.72-7.72 1.47 1.35L5.41 20z\"/>\n",
              "  </svg>\n",
              "      </button>\n",
              "      \n",
              "  <style>\n",
              "    .colab-df-container {\n",
              "      display:flex;\n",
              "      flex-wrap:wrap;\n",
              "      gap: 12px;\n",
              "    }\n",
              "\n",
              "    .colab-df-convert {\n",
              "      background-color: #E8F0FE;\n",
              "      border: none;\n",
              "      border-radius: 50%;\n",
              "      cursor: pointer;\n",
              "      display: none;\n",
              "      fill: #1967D2;\n",
              "      height: 32px;\n",
              "      padding: 0 0 0 0;\n",
              "      width: 32px;\n",
              "    }\n",
              "\n",
              "    .colab-df-convert:hover {\n",
              "      background-color: #E2EBFA;\n",
              "      box-shadow: 0px 1px 2px rgba(60, 64, 67, 0.3), 0px 1px 3px 1px rgba(60, 64, 67, 0.15);\n",
              "      fill: #174EA6;\n",
              "    }\n",
              "\n",
              "    [theme=dark] .colab-df-convert {\n",
              "      background-color: #3B4455;\n",
              "      fill: #D2E3FC;\n",
              "    }\n",
              "\n",
              "    [theme=dark] .colab-df-convert:hover {\n",
              "      background-color: #434B5C;\n",
              "      box-shadow: 0px 1px 3px 1px rgba(0, 0, 0, 0.15);\n",
              "      filter: drop-shadow(0px 1px 2px rgba(0, 0, 0, 0.3));\n",
              "      fill: #FFFFFF;\n",
              "    }\n",
              "  </style>\n",
              "\n",
              "      <script>\n",
              "        const buttonEl =\n",
              "          document.querySelector('#df-827aa089-cf89-4277-b0ae-ee364109c99b button.colab-df-convert');\n",
              "        buttonEl.style.display =\n",
              "          google.colab.kernel.accessAllowed ? 'block' : 'none';\n",
              "\n",
              "        async function convertToInteractive(key) {\n",
              "          const element = document.querySelector('#df-827aa089-cf89-4277-b0ae-ee364109c99b');\n",
              "          const dataTable =\n",
              "            await google.colab.kernel.invokeFunction('convertToInteractive',\n",
              "                                                     [key], {});\n",
              "          if (!dataTable) return;\n",
              "\n",
              "          const docLinkHtml = 'Like what you see? Visit the ' +\n",
              "            '<a target=\"_blank\" href=https://colab.research.google.com/notebooks/data_table.ipynb>data table notebook</a>'\n",
              "            + ' to learn more about interactive tables.';\n",
              "          element.innerHTML = '';\n",
              "          dataTable['output_type'] = 'display_data';\n",
              "          await google.colab.output.renderOutput(dataTable, element);\n",
              "          const docLink = document.createElement('div');\n",
              "          docLink.innerHTML = docLinkHtml;\n",
              "          element.appendChild(docLink);\n",
              "        }\n",
              "      </script>\n",
              "    </div>\n",
              "  </div>\n",
              "  "
            ]
          },
          "metadata": {},
          "execution_count": 51
        }
      ]
    },
    {
      "cell_type": "code",
      "source": [
        "#this is the histogram without doing the OHE and it's only one plot.\n",
        "sns.histplot(x='MasVnrType',data=ds)"
      ],
      "metadata": {
        "id": "5mYZWzo4tSl4",
        "colab": {
          "base_uri": "https://localhost:8080/",
          "height": 297
        },
        "outputId": "613ea112-31ad-41fd-cb3e-98d5a2bdca05"
      },
      "execution_count": 52,
      "outputs": [
        {
          "output_type": "execute_result",
          "data": {
            "text/plain": [
              "<matplotlib.axes._subplots.AxesSubplot at 0x7f29e6a8e590>"
            ]
          },
          "metadata": {},
          "execution_count": 52
        },
        {
          "output_type": "display_data",
          "data": {
            "text/plain": [
              "<Figure size 432x288 with 1 Axes>"
            ],
            "image/png": "[encoded data removed]"
          },
          "metadata": {
            "needs_background": "light"
          }
        }
      ]
    },
    {
      "cell_type": "code",
      "source": [
        "sns.set(style=\"darkgrid\")\n",
        "df = dsMasVnrType\n",
        "fig, axs = plt.subplots(2, 2, figsize=(7, 7))\n",
        "\n",
        "sns.histplot(data=df, x=\"MasVnrType_BrkCmn\", kde=True, color=\"skyblue\", ax=axs[0, 0])\n",
        "sns.histplot(data=df, x=\"MasVnrType_BrkFace\", kde=True, color=\"olive\", ax=axs[0, 1])\n",
        "sns.histplot(data=df, x=\"MasVnrType_None\", kde=True, color=\"gold\", ax=axs[1, 0])\n",
        "sns.histplot(data=df, x=\"MasVnrType_Stone\", kde=True, color=\"teal\", ax=axs[1, 1])\n"
      ],
      "metadata": {
        "id": "qrk8Q2iBtS8X",
        "colab": {
          "base_uri": "https://localhost:8080/",
          "height": 466
        },
        "outputId": "106abb2a-a558-4f2c-c094-d84d23590f63"
      },
      "execution_count": 53,
      "outputs": [
        {
          "output_type": "execute_result",
          "data": {
            "text/plain": [
              "<matplotlib.axes._subplots.AxesSubplot at 0x7f29e698c990>"
            ]
          },
          "metadata": {},
          "execution_count": 53
        },
        {
          "output_type": "display_data",
          "data": {
            "text/plain": [
              "<Figure size 504x504 with 4 Axes>"
            ],
            "image/png": "[encoded data removed]"
          },
          "metadata": {}
        }
      ]
    },
    {
      "cell_type": "markdown",
      "source": [
        "We can see that when plotting the histogram of the original data, we get one graph with 4 columns, each one corresponding to the number of times this category appears. When plotting the respective histogram for the same variable, that is one hot encoding, we get 4 diagrams, each one corresponding to one category and illustrating the number of times that this category appears and doesn't appear."
      ],
      "metadata": {
        "id": "umbjQB06tUy3"
      }
    },
    {
      "cell_type": "markdown",
      "source": [
        "Question 5: Using ordinary least squares (OLS), try to predict house prices on this dataset"
      ],
      "metadata": {
        "id": "ejkjxpPq9h5U"
      }
    },
    {
      "cell_type": "code",
      "source": [
        "# see the correlation between variables and the variable that we want to predict\n",
        "cor = ds_ohe[ds_ohe.columns[1:]].corr()['SalePrice'][:]\n",
        "cor"
      ],
      "metadata": {
        "id": "7UR3c0-c9nlB",
        "colab": {
          "base_uri": "https://localhost:8080/"
        },
        "outputId": "f76aeb1f-aff8-4135-daeb-23f04c4518ad"
      },
      "execution_count": 54,
      "outputs": [
        {
          "output_type": "execute_result",
          "data": {
            "text/plain": [
              "MSSubClass           -0.084284\n",
              "LotFrontage           0.362972\n",
              "LotArea               0.263843\n",
              "OverallQual           0.790982\n",
              "OverallCond          -0.077856\n",
              "YearBuilt             0.522897\n",
              "YearRemodAdd          0.507101\n",
              "MasVnrArea            0.472614\n",
              "BsmtFinSF1            0.386420\n",
              "BsmtFinSF2           -0.011378\n",
              "BsmtUnfSF             0.214479\n",
              "TotalBsmtSF           0.613581\n",
              "1stFlrSF              0.605852\n",
              "2ndFlrSF              0.319334\n",
              "LowQualFinSF         -0.025606\n",
              "GrLivArea             0.708624\n",
              "BsmtFullBath          0.227122\n",
              "BsmtHalfBath         -0.016844\n",
              "FullBath              0.560664\n",
              "HalfBath              0.284108\n",
              "BedroomAbvGr          0.168213\n",
              "KitchenAbvGr         -0.135907\n",
              "TotRmsAbvGrd          0.533723\n",
              "Fireplaces            0.466929\n",
              "GarageYrBlt           0.397778\n",
              "GarageCars            0.640409\n",
              "GarageArea            0.623431\n",
              "WoodDeckSF            0.324413\n",
              "OpenPorchSF           0.315856\n",
              "EnclosedPorch        -0.128578\n",
              "3SsnPorch             0.044584\n",
              "ScreenPorch           0.111447\n",
              "PoolArea              0.092404\n",
              "MiscVal              -0.021190\n",
              "MoSold                0.046432\n",
              "YrSold               -0.028923\n",
              "SalePrice             1.000000\n",
              "RoofMatl_ClyTile     -0.006897\n",
              "RoofMatl_CompShg     -0.104505\n",
              "RoofMatl_Membran      0.019970\n",
              "RoofMatl_Metal       -0.000304\n",
              "RoofMatl_Roll        -0.014479\n",
              "RoofMatl_Tar&Grv      0.004921\n",
              "RoofMatl_WdShake      0.044643\n",
              "RoofMatl_WdShngl      0.169324\n",
              "MasVnrType_BrkCmn    -0.044394\n",
              "MasVnrType_BrkFace    0.198191\n",
              "MasVnrType_None      -0.367456\n",
              "MasVnrType_Stone      0.330476\n",
              "Foundation_BrkTil    -0.204117\n",
              "Foundation_CBlock    -0.343263\n",
              "Foundation_PConc      0.497734\n",
              "Foundation_Slab      -0.119740\n",
              "Foundation_Stone     -0.012103\n",
              "Foundation_Wood       0.002711\n",
              "Name: SalePrice, dtype: float64"
            ]
          },
          "metadata": {},
          "execution_count": 54
        }
      ]
    },
    {
      "cell_type": "markdown",
      "source": [
        "We will create a table with all the variables that have big correlation with SalePrice and then we will drop the ones that have large correlation between them."
      ],
      "metadata": {
        "id": "j9bmyIJqcb4D"
      }
    },
    {
      "cell_type": "code",
      "source": [
        "ds_ols = ds_ohe[['LotFrontage', 'OverallQual', 'YearBuilt', 'MasVnrArea', 'TotalBsmtSF', '1stFlrSF', 'GrLivArea', 'FullBath', 'TotRmsAbvGrd', 'Fireplaces', 'GarageCars', 'Foundation_BrkTil', 'Foundation_CBlock', 'Foundation_PConc', 'Foundation_Slab', 'Foundation_Stone', 'Foundation_Wood']]\n",
        "ds_ols"
      ],
      "metadata": {
        "id": "y6xGRfvPDDk9",
        "colab": {
          "base_uri": "https://localhost:8080/",
          "height": 488
        },
        "outputId": "a4ebc397-d430-4efb-ba48-81fe8b105610"
      },
      "execution_count": 55,
      "outputs": [
        {
          "output_type": "execute_result",
          "data": {
            "text/plain": [
              "      LotFrontage  OverallQual  YearBuilt  MasVnrArea  TotalBsmtSF  1stFlrSF  \\\n",
              "0        0.357143            7       2003    0.122500     0.140098  0.182438   \n",
              "1        0.439560            6       1976    0.000000     0.206547  0.268968   \n",
              "2        0.373626            7       2001    0.101250     0.150573  0.196078   \n",
              "3        0.329670            7       1915    0.000000     0.123732  0.204817   \n",
              "4        0.461538            8       2000    0.218750     0.187398  0.244032   \n",
              "...           ...          ...        ...         ...          ...       ...   \n",
              "1455     0.340659            6       1999    0.000000     0.155974  0.203112   \n",
              "1456     0.467033            6       1978    0.074375     0.252373  0.441816   \n",
              "1457     0.362637            7       1941    0.000000     0.188543  0.253197   \n",
              "1458     0.373626            5       1950    0.000000     0.176432  0.229753   \n",
              "1459     0.412088            5       1965    0.000000     0.205565  0.267690   \n",
              "\n",
              "      GrLivArea  FullBath  TotRmsAbvGrd  Fireplaces  GarageCars  \\\n",
              "0      0.303084         2             8           0           2   \n",
              "1      0.223680         2             6           1           2   \n",
              "2      0.316554         2             6           1           2   \n",
              "3      0.304325         1             7           1           3   \n",
              "4      0.389578         2             9           1           3   \n",
              "...         ...       ...           ...         ...         ...   \n",
              "1455   0.291918         2             7           1           2   \n",
              "1456   0.367423         2             7           2           2   \n",
              "1457   0.414747         2             9           2           1   \n",
              "1458   0.191067         1             5           0           1   \n",
              "1459   0.222616         1             6           0           1   \n",
              "\n",
              "      Foundation_BrkTil  Foundation_CBlock  Foundation_PConc  Foundation_Slab  \\\n",
              "0                     0                  0                 1                0   \n",
              "1                     0                  1                 0                0   \n",
              "2                     0                  0                 1                0   \n",
              "3                     1                  0                 0                0   \n",
              "4                     0                  0                 1                0   \n",
              "...                 ...                ...               ...              ...   \n",
              "1455                  0                  0                 1                0   \n",
              "1456                  0                  1                 0                0   \n",
              "1457                  0                  0                 0                0   \n",
              "1458                  0                  1                 0                0   \n",
              "1459                  0                  1                 0                0   \n",
              "\n",
              "      Foundation_Stone  Foundation_Wood  \n",
              "0                    0                0  \n",
              "1                    0                0  \n",
              "2                    0                0  \n",
              "3                    0                0  \n",
              "4                    0                0  \n",
              "...                ...              ...  \n",
              "1455                 0                0  \n",
              "1456                 0                0  \n",
              "1457                 1                0  \n",
              "1458                 0                0  \n",
              "1459                 0                0  \n",
              "\n",
              "[1460 rows x 17 columns]"
            ],
            "text/html": [
              "\n",
              "  <div id=\"df-9743e68c-40f7-45ac-8794-e4b6d737a211\">\n",
              "    <div class=\"colab-df-container\">\n",
              "      <div>\n",
              "<style scoped>\n",
              "    .dataframe tbody tr th:only-of-type {\n",
              "        vertical-align: middle;\n",
              "    }\n",
              "\n",
              "    .dataframe tbody tr th {\n",
              "        vertical-align: top;\n",
              "    }\n",
              "\n",
              "    .dataframe thead th {\n",
              "        text-align: right;\n",
              "    }\n",
              "</style>\n",
              "<table border=\"1\" class=\"dataframe\">\n",
              "  <thead>\n",
              "    <tr style=\"text-align: right;\">\n",
              "      <th></th>\n",
              "      <th>LotFrontage</th>\n",
              "      <th>OverallQual</th>\n",
              "      <th>YearBuilt</th>\n",
              "      <th>MasVnrArea</th>\n",
              "      <th>TotalBsmtSF</th>\n",
              "      <th>1stFlrSF</th>\n",
              "      <th>GrLivArea</th>\n",
              "      <th>FullBath</th>\n",
              "      <th>TotRmsAbvGrd</th>\n",
              "      <th>Fireplaces</th>\n",
              "      <th>GarageCars</th>\n",
              "      <th>Foundation_BrkTil</th>\n",
              "      <th>Foundation_CBlock</th>\n",
              "      <th>Foundation_PConc</th>\n",
              "      <th>Foundation_Slab</th>\n",
              "      <th>Foundation_Stone</th>\n",
              "      <th>Foundation_Wood</th>\n",
              "    </tr>\n",
              "  </thead>\n",
              "  <tbody>\n",
              "    <tr>\n",
              "      <th>0</th>\n",
              "      <td>0.357143</td>\n",
              "      <td>7</td>\n",
              "      <td>2003</td>\n",
              "      <td>0.122500</td>\n",
              "      <td>0.140098</td>\n",
              "      <td>0.182438</td>\n",
              "      <td>0.303084</td>\n",
              "      <td>2</td>\n",
              "      <td>8</td>\n",
              "      <td>0</td>\n",
              "      <td>2</td>\n",
              "      <td>0</td>\n",
              "      <td>0</td>\n",
              "      <td>1</td>\n",
              "      <td>0</td>\n",
              "      <td>0</td>\n",
              "      <td>0</td>\n",
              "    </tr>\n",
              "    <tr>\n",
              "      <th>1</th>\n",
              "      <td>0.439560</td>\n",
              "      <td>6</td>\n",
              "      <td>1976</td>\n",
              "      <td>0.000000</td>\n",
              "      <td>0.206547</td>\n",
              "      <td>0.268968</td>\n",
              "      <td>0.223680</td>\n",
              "      <td>2</td>\n",
              "      <td>6</td>\n",
              "      <td>1</td>\n",
              "      <td>2</td>\n",
              "      <td>0</td>\n",
              "      <td>1</td>\n",
              "      <td>0</td>\n",
              "      <td>0</td>\n",
              "      <td>0</td>\n",
              "      <td>0</td>\n",
              "    </tr>\n",
              "    <tr>\n",
              "      <th>2</th>\n",
              "      <td>0.373626</td>\n",
              "      <td>7</td>\n",
              "      <td>2001</td>\n",
              "      <td>0.101250</td>\n",
              "      <td>0.150573</td>\n",
              "      <td>0.196078</td>\n",
              "      <td>0.316554</td>\n",
              "      <td>2</td>\n",
              "      <td>6</td>\n",
              "      <td>1</td>\n",
              "      <td>2</td>\n",
              "      <td>0</td>\n",
              "      <td>0</td>\n",
              "      <td>1</td>\n",
              "      <td>0</td>\n",
              "      <td>0</td>\n",
              "      <td>0</td>\n",
              "    </tr>\n",
              "    <tr>\n",
              "      <th>3</th>\n",
              "      <td>0.329670</td>\n",
              "      <td>7</td>\n",
              "      <td>1915</td>\n",
              "      <td>0.000000</td>\n",
              "      <td>0.123732</td>\n",
              "      <td>0.204817</td>\n",
              "      <td>0.304325</td>\n",
              "      <td>1</td>\n",
              "      <td>7</td>\n",
              "      <td>1</td>\n",
              "      <td>3</td>\n",
              "      <td>1</td>\n",
              "      <td>0</td>\n",
              "      <td>0</td>\n",
              "      <td>0</td>\n",
              "      <td>0</td>\n",
              "      <td>0</td>\n",
              "    </tr>\n",
              "    <tr>\n",
              "      <th>4</th>\n",
              "      <td>0.461538</td>\n",
              "      <td>8</td>\n",
              "      <td>2000</td>\n",
              "      <td>0.218750</td>\n",
              "      <td>0.187398</td>\n",
              "      <td>0.244032</td>\n",
              "      <td>0.389578</td>\n",
              "      <td>2</td>\n",
              "      <td>9</td>\n",
              "      <td>1</td>\n",
              "      <td>3</td>\n",
              "      <td>0</td>\n",
              "      <td>0</td>\n",
              "      <td>1</td>\n",
              "      <td>0</td>\n",
              "      <td>0</td>\n",
              "      <td>0</td>\n",
              "    </tr>\n",
              "    <tr>\n",
              "      <th>...</th>\n",
              "      <td>...</td>\n",
              "      <td>...</td>\n",
              "      <td>...</td>\n",
              "      <td>...</td>\n",
              "      <td>...</td>\n",
              "      <td>...</td>\n",
              "      <td>...</td>\n",
              "      <td>...</td>\n",
              "      <td>...</td>\n",
              "      <td>...</td>\n",
              "      <td>...</td>\n",
              "      <td>...</td>\n",
              "      <td>...</td>\n",
              "      <td>...</td>\n",
              "      <td>...</td>\n",
              "      <td>...</td>\n",
              "      <td>...</td>\n",
              "    </tr>\n",
              "    <tr>\n",
              "      <th>1455</th>\n",
              "      <td>0.340659</td>\n",
              "      <td>6</td>\n",
              "      <td>1999</td>\n",
              "      <td>0.000000</td>\n",
              "      <td>0.155974</td>\n",
              "      <td>0.203112</td>\n",
              "      <td>0.291918</td>\n",
              "      <td>2</td>\n",
              "      <td>7</td>\n",
              "      <td>1</td>\n",
              "      <td>2</td>\n",
              "      <td>0</td>\n",
              "      <td>0</td>\n",
              "      <td>1</td>\n",
              "      <td>0</td>\n",
              "      <td>0</td>\n",
              "      <td>0</td>\n",
              "    </tr>\n",
              "    <tr>\n",
              "      <th>1456</th>\n",
              "      <td>0.467033</td>\n",
              "      <td>6</td>\n",
              "      <td>1978</td>\n",
              "      <td>0.074375</td>\n",
              "      <td>0.252373</td>\n",
              "      <td>0.441816</td>\n",
              "      <td>0.367423</td>\n",
              "      <td>2</td>\n",
              "      <td>7</td>\n",
              "      <td>2</td>\n",
              "      <td>2</td>\n",
              "      <td>0</td>\n",
              "      <td>1</td>\n",
              "      <td>0</td>\n",
              "      <td>0</td>\n",
              "      <td>0</td>\n",
              "      <td>0</td>\n",
              "    </tr>\n",
              "    <tr>\n",
              "      <th>1457</th>\n",
              "      <td>0.362637</td>\n",
              "      <td>7</td>\n",
              "      <td>1941</td>\n",
              "      <td>0.000000</td>\n",
              "      <td>0.188543</td>\n",
              "      <td>0.253197</td>\n",
              "      <td>0.414747</td>\n",
              "      <td>2</td>\n",
              "      <td>9</td>\n",
              "      <td>2</td>\n",
              "      <td>1</td>\n",
              "      <td>0</td>\n",
              "      <td>0</td>\n",
              "      <td>0</td>\n",
              "      <td>0</td>\n",
              "      <td>1</td>\n",
              "      <td>0</td>\n",
              "    </tr>\n",
              "    <tr>\n",
              "      <th>1458</th>\n",
              "      <td>0.373626</td>\n",
              "      <td>5</td>\n",
              "      <td>1950</td>\n",
              "      <td>0.000000</td>\n",
              "      <td>0.176432</td>\n",
              "      <td>0.229753</td>\n",
              "      <td>0.191067</td>\n",
              "      <td>1</td>\n",
              "      <td>5</td>\n",
              "      <td>0</td>\n",
              "      <td>1</td>\n",
              "      <td>0</td>\n",
              "      <td>1</td>\n",
              "      <td>0</td>\n",
              "      <td>0</td>\n",
              "      <td>0</td>\n",
              "      <td>0</td>\n",
              "    </tr>\n",
              "    <tr>\n",
              "      <th>1459</th>\n",
              "      <td>0.412088</td>\n",
              "      <td>5</td>\n",
              "      <td>1965</td>\n",
              "      <td>0.000000</td>\n",
              "      <td>0.205565</td>\n",
              "      <td>0.267690</td>\n",
              "      <td>0.222616</td>\n",
              "      <td>1</td>\n",
              "      <td>6</td>\n",
              "      <td>0</td>\n",
              "      <td>1</td>\n",
              "      <td>0</td>\n",
              "      <td>1</td>\n",
              "      <td>0</td>\n",
              "      <td>0</td>\n",
              "      <td>0</td>\n",
              "      <td>0</td>\n",
              "    </tr>\n",
              "  </tbody>\n",
              "</table>\n",
              "<p>1460 rows × 17 columns</p>\n",
              "</div>\n",
              "      <button class=\"colab-df-convert\" onclick=\"convertToInteractive('df-9743e68c-40f7-45ac-8794-e4b6d737a211')\"\n",
              "              title=\"Convert this dataframe to an interactive table.\"\n",
              "              style=\"display:none;\">\n",
              "        \n",
              "  <svg xmlns=\"http://www.w3.org/2000/svg\" height=\"24px\"viewBox=\"0 0 24 24\"\n",
              "       width=\"24px\">\n",
              "    <path d=\"M0 0h24v24H0V0z\" fill=\"none\"/>\n",
              "    <path d=\"M18.56 5.44l.94 2.06.94-2.06 2.06-.94-2.06-.94-.94-2.06-.94 2.06-2.06.94zm-11 1L8.5 8.5l.94-2.06 2.06-.94-2.06-.94L8.5 2.5l-.94 2.06-2.06.94zm10 10l.94 2.06.94-2.06 2.06-.94-2.06-.94-.94-2.06-.94 2.06-2.06.94z\"/><path d=\"M17.41 7.96l-1.37-1.37c-.4-.4-.92-.59-1.43-.59-.52 0-1.04.2-1.43.59L10.3 9.45l-7.72 7.72c-.78.78-.78 2.05 0 2.83L4 21.41c.39.39.9.59 1.41.59.51 0 1.02-.2 1.41-.59l7.78-7.78 2.81-2.81c.8-.78.8-2.07 0-2.86zM5.41 20L4 18.59l7.72-7.72 1.47 1.35L5.41 20z\"/>\n",
              "  </svg>\n",
              "      </button>\n",
              "      \n",
              "  <style>\n",
              "    .colab-df-container {\n",
              "      display:flex;\n",
              "      flex-wrap:wrap;\n",
              "      gap: 12px;\n",
              "    }\n",
              "\n",
              "    .colab-df-convert {\n",
              "      background-color: #E8F0FE;\n",
              "      border: none;\n",
              "      border-radius: 50%;\n",
              "      cursor: pointer;\n",
              "      display: none;\n",
              "      fill: #1967D2;\n",
              "      height: 32px;\n",
              "      padding: 0 0 0 0;\n",
              "      width: 32px;\n",
              "    }\n",
              "\n",
              "    .colab-df-convert:hover {\n",
              "      background-color: #E2EBFA;\n",
              "      box-shadow: 0px 1px 2px rgba(60, 64, 67, 0.3), 0px 1px 3px 1px rgba(60, 64, 67, 0.15);\n",
              "      fill: #174EA6;\n",
              "    }\n",
              "\n",
              "    [theme=dark] .colab-df-convert {\n",
              "      background-color: #3B4455;\n",
              "      fill: #D2E3FC;\n",
              "    }\n",
              "\n",
              "    [theme=dark] .colab-df-convert:hover {\n",
              "      background-color: #434B5C;\n",
              "      box-shadow: 0px 1px 3px 1px rgba(0, 0, 0, 0.15);\n",
              "      filter: drop-shadow(0px 1px 2px rgba(0, 0, 0, 0.3));\n",
              "      fill: #FFFFFF;\n",
              "    }\n",
              "  </style>\n",
              "\n",
              "      <script>\n",
              "        const buttonEl =\n",
              "          document.querySelector('#df-9743e68c-40f7-45ac-8794-e4b6d737a211 button.colab-df-convert');\n",
              "        buttonEl.style.display =\n",
              "          google.colab.kernel.accessAllowed ? 'block' : 'none';\n",
              "\n",
              "        async function convertToInteractive(key) {\n",
              "          const element = document.querySelector('#df-9743e68c-40f7-45ac-8794-e4b6d737a211');\n",
              "          const dataTable =\n",
              "            await google.colab.kernel.invokeFunction('convertToInteractive',\n",
              "                                                     [key], {});\n",
              "          if (!dataTable) return;\n",
              "\n",
              "          const docLinkHtml = 'Like what you see? Visit the ' +\n",
              "            '<a target=\"_blank\" href=https://colab.research.google.com/notebooks/data_table.ipynb>data table notebook</a>'\n",
              "            + ' to learn more about interactive tables.';\n",
              "          element.innerHTML = '';\n",
              "          dataTable['output_type'] = 'display_data';\n",
              "          await google.colab.output.renderOutput(dataTable, element);\n",
              "          const docLink = document.createElement('div');\n",
              "          docLink.innerHTML = docLinkHtml;\n",
              "          element.appendChild(docLink);\n",
              "        }\n",
              "      </script>\n",
              "    </div>\n",
              "  </div>\n",
              "  "
            ]
          },
          "metadata": {},
          "execution_count": 55
        }
      ]
    },
    {
      "cell_type": "code",
      "source": [
        "ds_ols.corr()"
      ],
      "metadata": {
        "id": "xuaVCUC0DDnd",
        "colab": {
          "base_uri": "https://localhost:8080/",
          "height": 646
        },
        "outputId": "fd95e375-a332-4622-e6ae-97bba1fc1ec3"
      },
      "execution_count": 56,
      "outputs": [
        {
          "output_type": "execute_result",
          "data": {
            "text/plain": [
              "                   LotFrontage  OverallQual  YearBuilt  MasVnrArea  \\\n",
              "LotFrontage           1.000000     0.229337   0.121047    0.169361   \n",
              "OverallQual           0.229337     1.000000   0.572323    0.407252   \n",
              "YearBuilt             0.121047     0.572323   1.000000    0.311600   \n",
              "MasVnrArea            0.169361     0.407252   0.311600    1.000000   \n",
              "TotalBsmtSF           0.315676     0.537808   0.391452    0.360067   \n",
              "1stFlrSF              0.362639     0.476224   0.281986    0.339850   \n",
              "GrLivArea             0.332625     0.593007   0.199010    0.388052   \n",
              "FullBath              0.185557     0.550600   0.468271    0.272999   \n",
              "TotRmsAbvGrd          0.312330     0.427452   0.095589    0.279568   \n",
              "Fireplaces            0.222197     0.396765   0.147716    0.247015   \n",
              "GarageCars            0.290457     0.600671   0.537850    0.361945   \n",
              "Foundation_BrkTil    -0.135131    -0.157709  -0.554742   -0.177335   \n",
              "Foundation_CBlock     0.021969    -0.429761  -0.290574   -0.065741   \n",
              "Foundation_PConc      0.060047     0.568211   0.651199    0.189236   \n",
              "Foundation_Slab      -0.022850    -0.169032  -0.050031   -0.036965   \n",
              "Foundation_Stone     -0.009223    -0.020103  -0.124681   -0.036664   \n",
              "Foundation_Wood       0.073249     0.018621   0.028654   -0.025899   \n",
              "\n",
              "                   TotalBsmtSF  1stFlrSF  GrLivArea  FullBath  TotRmsAbvGrd  \\\n",
              "LotFrontage           0.315676  0.362639   0.332625  0.185557      0.312330   \n",
              "OverallQual           0.537808  0.476224   0.593007  0.550600      0.427452   \n",
              "YearBuilt             0.391452  0.281986   0.199010  0.468271      0.095589   \n",
              "MasVnrArea            0.360067  0.339850   0.388052  0.272999      0.279568   \n",
              "TotalBsmtSF           1.000000  0.819530   0.454868  0.323722      0.285573   \n",
              "1stFlrSF              0.819530  1.000000   0.566024  0.380637      0.409516   \n",
              "GrLivArea             0.454868  0.566024   1.000000  0.630012      0.825489   \n",
              "FullBath              0.323722  0.380637   0.630012  1.000000      0.554784   \n",
              "TotRmsAbvGrd          0.285573  0.409516   0.825489  0.554784      1.000000   \n",
              "Fireplaces            0.339519  0.410531   0.461679  0.243671      0.326114   \n",
              "GarageCars            0.434585  0.439317   0.467247  0.469672      0.362289   \n",
              "Foundation_BrkTil    -0.184550 -0.161771  -0.040224 -0.143024      0.007588   \n",
              "Foundation_CBlock    -0.111752 -0.093321  -0.266787 -0.382029     -0.206910   \n",
              "Foundation_PConc      0.307701  0.197188   0.292764  0.461667      0.192609   \n",
              "Foundation_Slab      -0.311714 -0.014789  -0.043316  0.023849     -0.001417   \n",
              "Foundation_Stone     -0.023792 -0.011435   0.046372 -0.007590      0.065188   \n",
              "Foundation_Wood      -0.020738 -0.012285   0.031144  0.008371      0.013466   \n",
              "\n",
              "                   Fireplaces  GarageCars  Foundation_BrkTil  \\\n",
              "LotFrontage          0.222197    0.290457          -0.135131   \n",
              "OverallQual          0.396765    0.600671          -0.157709   \n",
              "YearBuilt            0.147716    0.537850          -0.554742   \n",
              "MasVnrArea           0.247015    0.361945          -0.177335   \n",
              "TotalBsmtSF          0.339519    0.434585          -0.184550   \n",
              "1stFlrSF             0.410531    0.439317          -0.161771   \n",
              "GrLivArea            0.461679    0.467247          -0.040224   \n",
              "FullBath             0.243671    0.469672          -0.143024   \n",
              "TotRmsAbvGrd         0.326114    0.362289           0.007588   \n",
              "Fireplaces           1.000000    0.300789          -0.076169   \n",
              "GarageCars           0.300789    1.000000          -0.204760   \n",
              "Foundation_BrkTil   -0.076169   -0.204760           1.000000   \n",
              "Foundation_CBlock   -0.037848   -0.318814          -0.292034   \n",
              "Foundation_PConc     0.103510    0.453421          -0.297362   \n",
              "Foundation_Slab     -0.056105   -0.046226          -0.043093   \n",
              "Foundation_Stone    -0.011265   -0.008638          -0.021413   \n",
              "Foundation_Wood     -0.043163    0.014145          -0.015125   \n",
              "\n",
              "                   Foundation_CBlock  Foundation_PConc  Foundation_Slab  \\\n",
              "LotFrontage                 0.021969          0.060047        -0.022850   \n",
              "OverallQual                -0.429761          0.568211        -0.169032   \n",
              "YearBuilt                  -0.290574          0.651199        -0.050031   \n",
              "MasVnrArea                 -0.065741          0.189236        -0.036965   \n",
              "TotalBsmtSF                -0.111752          0.307701        -0.311714   \n",
              "1stFlrSF                   -0.093321          0.197188        -0.014789   \n",
              "GrLivArea                  -0.266787          0.292764        -0.043316   \n",
              "FullBath                   -0.382029          0.461667         0.023849   \n",
              "TotRmsAbvGrd               -0.206910          0.192609        -0.001417   \n",
              "Fireplaces                 -0.037848          0.103510        -0.056105   \n",
              "GarageCars                 -0.318814          0.453421        -0.046226   \n",
              "Foundation_BrkTil          -0.292034         -0.297362        -0.043093   \n",
              "Foundation_CBlock           1.000000         -0.781558        -0.113262   \n",
              "Foundation_PConc           -0.781558          1.000000        -0.115328   \n",
              "Foundation_Slab            -0.113262         -0.115328         1.000000   \n",
              "Foundation_Stone           -0.056279         -0.057306        -0.008305   \n",
              "Foundation_Wood            -0.039754         -0.040480        -0.005866   \n",
              "\n",
              "                   Foundation_Stone  Foundation_Wood  \n",
              "LotFrontage               -0.009223         0.073249  \n",
              "OverallQual               -0.020103         0.018621  \n",
              "YearBuilt                 -0.124681         0.028654  \n",
              "MasVnrArea                -0.036664        -0.025899  \n",
              "TotalBsmtSF               -0.023792        -0.020738  \n",
              "1stFlrSF                  -0.011435        -0.012285  \n",
              "GrLivArea                  0.046372         0.031144  \n",
              "FullBath                  -0.007590         0.008371  \n",
              "TotRmsAbvGrd               0.065188         0.013466  \n",
              "Fireplaces                -0.011265        -0.043163  \n",
              "GarageCars                -0.008638         0.014145  \n",
              "Foundation_BrkTil         -0.021413        -0.015125  \n",
              "Foundation_CBlock         -0.056279        -0.039754  \n",
              "Foundation_PConc          -0.057306        -0.040480  \n",
              "Foundation_Slab           -0.008305        -0.005866  \n",
              "Foundation_Stone           1.000000        -0.002915  \n",
              "Foundation_Wood           -0.002915         1.000000  "
            ],
            "text/html": [
              "\n",
              "  <div id=\"df-d618d047-a909-4dc8-a6f3-8007b82893c2\">\n",
              "    <div class=\"colab-df-container\">\n",
              "      <div>\n",
              "<style scoped>\n",
              "    .dataframe tbody tr th:only-of-type {\n",
              "        vertical-align: middle;\n",
              "    }\n",
              "\n",
              "    .dataframe tbody tr th {\n",
              "        vertical-align: top;\n",
              "    }\n",
              "\n",
              "    .dataframe thead th {\n",
              "        text-align: right;\n",
              "    }\n",
              "</style>\n",
              "<table border=\"1\" class=\"dataframe\">\n",
              "  <thead>\n",
              "    <tr style=\"text-align: right;\">\n",
              "      <th></th>\n",
              "      <th>LotFrontage</th>\n",
              "      <th>OverallQual</th>\n",
              "      <th>YearBuilt</th>\n",
              "      <th>MasVnrArea</th>\n",
              "      <th>TotalBsmtSF</th>\n",
              "      <th>1stFlrSF</th>\n",
              "      <th>GrLivArea</th>\n",
              "      <th>FullBath</th>\n",
              "      <th>TotRmsAbvGrd</th>\n",
              "      <th>Fireplaces</th>\n",
              "      <th>GarageCars</th>\n",
              "      <th>Foundation_BrkTil</th>\n",
              "      <th>Foundation_CBlock</th>\n",
              "      <th>Foundation_PConc</th>\n",
              "      <th>Foundation_Slab</th>\n",
              "      <th>Foundation_Stone</th>\n",
              "      <th>Foundation_Wood</th>\n",
              "    </tr>\n",
              "  </thead>\n",
              "  <tbody>\n",
              "    <tr>\n",
              "      <th>LotFrontage</th>\n",
              "      <td>1.000000</td>\n",
              "      <td>0.229337</td>\n",
              "      <td>0.121047</td>\n",
              "      <td>0.169361</td>\n",
              "      <td>0.315676</td>\n",
              "      <td>0.362639</td>\n",
              "      <td>0.332625</td>\n",
              "      <td>0.185557</td>\n",
              "      <td>0.312330</td>\n",
              "      <td>0.222197</td>\n",
              "      <td>0.290457</td>\n",
              "      <td>-0.135131</td>\n",
              "      <td>0.021969</td>\n",
              "      <td>0.060047</td>\n",
              "      <td>-0.022850</td>\n",
              "      <td>-0.009223</td>\n",
              "      <td>0.073249</td>\n",
              "    </tr>\n",
              "    <tr>\n",
              "      <th>OverallQual</th>\n",
              "      <td>0.229337</td>\n",
              "      <td>1.000000</td>\n",
              "      <td>0.572323</td>\n",
              "      <td>0.407252</td>\n",
              "      <td>0.537808</td>\n",
              "      <td>0.476224</td>\n",
              "      <td>0.593007</td>\n",
              "      <td>0.550600</td>\n",
              "      <td>0.427452</td>\n",
              "      <td>0.396765</td>\n",
              "      <td>0.600671</td>\n",
              "      <td>-0.157709</td>\n",
              "      <td>-0.429761</td>\n",
              "      <td>0.568211</td>\n",
              "      <td>-0.169032</td>\n",
              "      <td>-0.020103</td>\n",
              "      <td>0.018621</td>\n",
              "    </tr>\n",
              "    <tr>\n",
              "      <th>YearBuilt</th>\n",
              "      <td>0.121047</td>\n",
              "      <td>0.572323</td>\n",
              "      <td>1.000000</td>\n",
              "      <td>0.311600</td>\n",
              "      <td>0.391452</td>\n",
              "      <td>0.281986</td>\n",
              "      <td>0.199010</td>\n",
              "      <td>0.468271</td>\n",
              "      <td>0.095589</td>\n",
              "      <td>0.147716</td>\n",
              "      <td>0.537850</td>\n",
              "      <td>-0.554742</td>\n",
              "      <td>-0.290574</td>\n",
              "      <td>0.651199</td>\n",
              "      <td>-0.050031</td>\n",
              "      <td>-0.124681</td>\n",
              "      <td>0.028654</td>\n",
              "    </tr>\n",
              "    <tr>\n",
              "      <th>MasVnrArea</th>\n",
              "      <td>0.169361</td>\n",
              "      <td>0.407252</td>\n",
              "      <td>0.311600</td>\n",
              "      <td>1.000000</td>\n",
              "      <td>0.360067</td>\n",
              "      <td>0.339850</td>\n",
              "      <td>0.388052</td>\n",
              "      <td>0.272999</td>\n",
              "      <td>0.279568</td>\n",
              "      <td>0.247015</td>\n",
              "      <td>0.361945</td>\n",
              "      <td>-0.177335</td>\n",
              "      <td>-0.065741</td>\n",
              "      <td>0.189236</td>\n",
              "      <td>-0.036965</td>\n",
              "      <td>-0.036664</td>\n",
              "      <td>-0.025899</td>\n",
              "    </tr>\n",
              "    <tr>\n",
              "      <th>TotalBsmtSF</th>\n",
              "      <td>0.315676</td>\n",
              "      <td>0.537808</td>\n",
              "      <td>0.391452</td>\n",
              "      <td>0.360067</td>\n",
              "      <td>1.000000</td>\n",
              "      <td>0.819530</td>\n",
              "      <td>0.454868</td>\n",
              "      <td>0.323722</td>\n",
              "      <td>0.285573</td>\n",
              "      <td>0.339519</td>\n",
              "      <td>0.434585</td>\n",
              "      <td>-0.184550</td>\n",
              "      <td>-0.111752</td>\n",
              "      <td>0.307701</td>\n",
              "      <td>-0.311714</td>\n",
              "      <td>-0.023792</td>\n",
              "      <td>-0.020738</td>\n",
              "    </tr>\n",
              "    <tr>\n",
              "      <th>1stFlrSF</th>\n",
              "      <td>0.362639</td>\n",
              "      <td>0.476224</td>\n",
              "      <td>0.281986</td>\n",
              "      <td>0.339850</td>\n",
              "      <td>0.819530</td>\n",
              "      <td>1.000000</td>\n",
              "      <td>0.566024</td>\n",
              "      <td>0.380637</td>\n",
              "      <td>0.409516</td>\n",
              "      <td>0.410531</td>\n",
              "      <td>0.439317</td>\n",
              "      <td>-0.161771</td>\n",
              "      <td>-0.093321</td>\n",
              "      <td>0.197188</td>\n",
              "      <td>-0.014789</td>\n",
              "      <td>-0.011435</td>\n",
              "      <td>-0.012285</td>\n",
              "    </tr>\n",
              "    <tr>\n",
              "      <th>GrLivArea</th>\n",
              "      <td>0.332625</td>\n",
              "      <td>0.593007</td>\n",
              "      <td>0.199010</td>\n",
              "      <td>0.388052</td>\n",
              "      <td>0.454868</td>\n",
              "      <td>0.566024</td>\n",
              "      <td>1.000000</td>\n",
              "      <td>0.630012</td>\n",
              "      <td>0.825489</td>\n",
              "      <td>0.461679</td>\n",
              "      <td>0.467247</td>\n",
              "      <td>-0.040224</td>\n",
              "      <td>-0.266787</td>\n",
              "      <td>0.292764</td>\n",
              "      <td>-0.043316</td>\n",
              "      <td>0.046372</td>\n",
              "      <td>0.031144</td>\n",
              "    </tr>\n",
              "    <tr>\n",
              "      <th>FullBath</th>\n",
              "      <td>0.185557</td>\n",
              "      <td>0.550600</td>\n",
              "      <td>0.468271</td>\n",
              "      <td>0.272999</td>\n",
              "      <td>0.323722</td>\n",
              "      <td>0.380637</td>\n",
              "      <td>0.630012</td>\n",
              "      <td>1.000000</td>\n",
              "      <td>0.554784</td>\n",
              "      <td>0.243671</td>\n",
              "      <td>0.469672</td>\n",
              "      <td>-0.143024</td>\n",
              "      <td>-0.382029</td>\n",
              "      <td>0.461667</td>\n",
              "      <td>0.023849</td>\n",
              "      <td>-0.007590</td>\n",
              "      <td>0.008371</td>\n",
              "    </tr>\n",
              "    <tr>\n",
              "      <th>TotRmsAbvGrd</th>\n",
              "      <td>0.312330</td>\n",
              "      <td>0.427452</td>\n",
              "      <td>0.095589</td>\n",
              "      <td>0.279568</td>\n",
              "      <td>0.285573</td>\n",
              "      <td>0.409516</td>\n",
              "      <td>0.825489</td>\n",
              "      <td>0.554784</td>\n",
              "      <td>1.000000</td>\n",
              "      <td>0.326114</td>\n",
              "      <td>0.362289</td>\n",
              "      <td>0.007588</td>\n",
              "      <td>-0.206910</td>\n",
              "      <td>0.192609</td>\n",
              "      <td>-0.001417</td>\n",
              "      <td>0.065188</td>\n",
              "      <td>0.013466</td>\n",
              "    </tr>\n",
              "    <tr>\n",
              "      <th>Fireplaces</th>\n",
              "      <td>0.222197</td>\n",
              "      <td>0.396765</td>\n",
              "      <td>0.147716</td>\n",
              "      <td>0.247015</td>\n",
              "      <td>0.339519</td>\n",
              "      <td>0.410531</td>\n",
              "      <td>0.461679</td>\n",
              "      <td>0.243671</td>\n",
              "      <td>0.326114</td>\n",
              "      <td>1.000000</td>\n",
              "      <td>0.300789</td>\n",
              "      <td>-0.076169</td>\n",
              "      <td>-0.037848</td>\n",
              "      <td>0.103510</td>\n",
              "      <td>-0.056105</td>\n",
              "      <td>-0.011265</td>\n",
              "      <td>-0.043163</td>\n",
              "    </tr>\n",
              "    <tr>\n",
              "      <th>GarageCars</th>\n",
              "      <td>0.290457</td>\n",
              "      <td>0.600671</td>\n",
              "      <td>0.537850</td>\n",
              "      <td>0.361945</td>\n",
              "      <td>0.434585</td>\n",
              "      <td>0.439317</td>\n",
              "      <td>0.467247</td>\n",
              "      <td>0.469672</td>\n",
              "      <td>0.362289</td>\n",
              "      <td>0.300789</td>\n",
              "      <td>1.000000</td>\n",
              "      <td>-0.204760</td>\n",
              "      <td>-0.318814</td>\n",
              "      <td>0.453421</td>\n",
              "      <td>-0.046226</td>\n",
              "      <td>-0.008638</td>\n",
              "      <td>0.014145</td>\n",
              "    </tr>\n",
              "    <tr>\n",
              "      <th>Foundation_BrkTil</th>\n",
              "      <td>-0.135131</td>\n",
              "      <td>-0.157709</td>\n",
              "      <td>-0.554742</td>\n",
              "      <td>-0.177335</td>\n",
              "      <td>-0.184550</td>\n",
              "      <td>-0.161771</td>\n",
              "      <td>-0.040224</td>\n",
              "      <td>-0.143024</td>\n",
              "      <td>0.007588</td>\n",
              "      <td>-0.076169</td>\n",
              "      <td>-0.204760</td>\n",
              "      <td>1.000000</td>\n",
              "      <td>-0.292034</td>\n",
              "      <td>-0.297362</td>\n",
              "      <td>-0.043093</td>\n",
              "      <td>-0.021413</td>\n",
              "      <td>-0.015125</td>\n",
              "    </tr>\n",
              "    <tr>\n",
              "      <th>Foundation_CBlock</th>\n",
              "      <td>0.021969</td>\n",
              "      <td>-0.429761</td>\n",
              "      <td>-0.290574</td>\n",
              "      <td>-0.065741</td>\n",
              "      <td>-0.111752</td>\n",
              "      <td>-0.093321</td>\n",
              "      <td>-0.266787</td>\n",
              "      <td>-0.382029</td>\n",
              "      <td>-0.206910</td>\n",
              "      <td>-0.037848</td>\n",
              "      <td>-0.318814</td>\n",
              "      <td>-0.292034</td>\n",
              "      <td>1.000000</td>\n",
              "      <td>-0.781558</td>\n",
              "      <td>-0.113262</td>\n",
              "      <td>-0.056279</td>\n",
              "      <td>-0.039754</td>\n",
              "    </tr>\n",
              "    <tr>\n",
              "      <th>Foundation_PConc</th>\n",
              "      <td>0.060047</td>\n",
              "      <td>0.568211</td>\n",
              "      <td>0.651199</td>\n",
              "      <td>0.189236</td>\n",
              "      <td>0.307701</td>\n",
              "      <td>0.197188</td>\n",
              "      <td>0.292764</td>\n",
              "      <td>0.461667</td>\n",
              "      <td>0.192609</td>\n",
              "      <td>0.103510</td>\n",
              "      <td>0.453421</td>\n",
              "      <td>-0.297362</td>\n",
              "      <td>-0.781558</td>\n",
              "      <td>1.000000</td>\n",
              "      <td>-0.115328</td>\n",
              "      <td>-0.057306</td>\n",
              "      <td>-0.040480</td>\n",
              "    </tr>\n",
              "    <tr>\n",
              "      <th>Foundation_Slab</th>\n",
              "      <td>-0.022850</td>\n",
              "      <td>-0.169032</td>\n",
              "      <td>-0.050031</td>\n",
              "      <td>-0.036965</td>\n",
              "      <td>-0.311714</td>\n",
              "      <td>-0.014789</td>\n",
              "      <td>-0.043316</td>\n",
              "      <td>0.023849</td>\n",
              "      <td>-0.001417</td>\n",
              "      <td>-0.056105</td>\n",
              "      <td>-0.046226</td>\n",
              "      <td>-0.043093</td>\n",
              "      <td>-0.113262</td>\n",
              "      <td>-0.115328</td>\n",
              "      <td>1.000000</td>\n",
              "      <td>-0.008305</td>\n",
              "      <td>-0.005866</td>\n",
              "    </tr>\n",
              "    <tr>\n",
              "      <th>Foundation_Stone</th>\n",
              "      <td>-0.009223</td>\n",
              "      <td>-0.020103</td>\n",
              "      <td>-0.124681</td>\n",
              "      <td>-0.036664</td>\n",
              "      <td>-0.023792</td>\n",
              "      <td>-0.011435</td>\n",
              "      <td>0.046372</td>\n",
              "      <td>-0.007590</td>\n",
              "      <td>0.065188</td>\n",
              "      <td>-0.011265</td>\n",
              "      <td>-0.008638</td>\n",
              "      <td>-0.021413</td>\n",
              "      <td>-0.056279</td>\n",
              "      <td>-0.057306</td>\n",
              "      <td>-0.008305</td>\n",
              "      <td>1.000000</td>\n",
              "      <td>-0.002915</td>\n",
              "    </tr>\n",
              "    <tr>\n",
              "      <th>Foundation_Wood</th>\n",
              "      <td>0.073249</td>\n",
              "      <td>0.018621</td>\n",
              "      <td>0.028654</td>\n",
              "      <td>-0.025899</td>\n",
              "      <td>-0.020738</td>\n",
              "      <td>-0.012285</td>\n",
              "      <td>0.031144</td>\n",
              "      <td>0.008371</td>\n",
              "      <td>0.013466</td>\n",
              "      <td>-0.043163</td>\n",
              "      <td>0.014145</td>\n",
              "      <td>-0.015125</td>\n",
              "      <td>-0.039754</td>\n",
              "      <td>-0.040480</td>\n",
              "      <td>-0.005866</td>\n",
              "      <td>-0.002915</td>\n",
              "      <td>1.000000</td>\n",
              "    </tr>\n",
              "  </tbody>\n",
              "</table>\n",
              "</div>\n",
              "      <button class=\"colab-df-convert\" onclick=\"convertToInteractive('df-d618d047-a909-4dc8-a6f3-8007b82893c2')\"\n",
              "              title=\"Convert this dataframe to an interactive table.\"\n",
              "              style=\"display:none;\">\n",
              "        \n",
              "  <svg xmlns=\"http://www.w3.org/2000/svg\" height=\"24px\"viewBox=\"0 0 24 24\"\n",
              "       width=\"24px\">\n",
              "    <path d=\"M0 0h24v24H0V0z\" fill=\"none\"/>\n",
              "    <path d=\"M18.56 5.44l.94 2.06.94-2.06 2.06-.94-2.06-.94-.94-2.06-.94 2.06-2.06.94zm-11 1L8.5 8.5l.94-2.06 2.06-.94-2.06-.94L8.5 2.5l-.94 2.06-2.06.94zm10 10l.94 2.06.94-2.06 2.06-.94-2.06-.94-.94-2.06-.94 2.06-2.06.94z\"/><path d=\"M17.41 7.96l-1.37-1.37c-.4-.4-.92-.59-1.43-.59-.52 0-1.04.2-1.43.59L10.3 9.45l-7.72 7.72c-.78.78-.78 2.05 0 2.83L4 21.41c.39.39.9.59 1.41.59.51 0 1.02-.2 1.41-.59l7.78-7.78 2.81-2.81c.8-.78.8-2.07 0-2.86zM5.41 20L4 18.59l7.72-7.72 1.47 1.35L5.41 20z\"/>\n",
              "  </svg>\n",
              "      </button>\n",
              "      \n",
              "  <style>\n",
              "    .colab-df-container {\n",
              "      display:flex;\n",
              "      flex-wrap:wrap;\n",
              "      gap: 12px;\n",
              "    }\n",
              "\n",
              "    .colab-df-convert {\n",
              "      background-color: #E8F0FE;\n",
              "      border: none;\n",
              "      border-radius: 50%;\n",
              "      cursor: pointer;\n",
              "      display: none;\n",
              "      fill: #1967D2;\n",
              "      height: 32px;\n",
              "      padding: 0 0 0 0;\n",
              "      width: 32px;\n",
              "    }\n",
              "\n",
              "    .colab-df-convert:hover {\n",
              "      background-color: #E2EBFA;\n",
              "      box-shadow: 0px 1px 2px rgba(60, 64, 67, 0.3), 0px 1px 3px 1px rgba(60, 64, 67, 0.15);\n",
              "      fill: #174EA6;\n",
              "    }\n",
              "\n",
              "    [theme=dark] .colab-df-convert {\n",
              "      background-color: #3B4455;\n",
              "      fill: #D2E3FC;\n",
              "    }\n",
              "\n",
              "    [theme=dark] .colab-df-convert:hover {\n",
              "      background-color: #434B5C;\n",
              "      box-shadow: 0px 1px 3px 1px rgba(0, 0, 0, 0.15);\n",
              "      filter: drop-shadow(0px 1px 2px rgba(0, 0, 0, 0.3));\n",
              "      fill: #FFFFFF;\n",
              "    }\n",
              "  </style>\n",
              "\n",
              "      <script>\n",
              "        const buttonEl =\n",
              "          document.querySelector('#df-d618d047-a909-4dc8-a6f3-8007b82893c2 button.colab-df-convert');\n",
              "        buttonEl.style.display =\n",
              "          google.colab.kernel.accessAllowed ? 'block' : 'none';\n",
              "\n",
              "        async function convertToInteractive(key) {\n",
              "          const element = document.querySelector('#df-d618d047-a909-4dc8-a6f3-8007b82893c2');\n",
              "          const dataTable =\n",
              "            await google.colab.kernel.invokeFunction('convertToInteractive',\n",
              "                                                     [key], {});\n",
              "          if (!dataTable) return;\n",
              "\n",
              "          const docLinkHtml = 'Like what you see? Visit the ' +\n",
              "            '<a target=\"_blank\" href=https://colab.research.google.com/notebooks/data_table.ipynb>data table notebook</a>'\n",
              "            + ' to learn more about interactive tables.';\n",
              "          element.innerHTML = '';\n",
              "          dataTable['output_type'] = 'display_data';\n",
              "          await google.colab.output.renderOutput(dataTable, element);\n",
              "          const docLink = document.createElement('div');\n",
              "          docLink.innerHTML = docLinkHtml;\n",
              "          element.appendChild(docLink);\n",
              "        }\n",
              "      </script>\n",
              "    </div>\n",
              "  </div>\n",
              "  "
            ]
          },
          "metadata": {},
          "execution_count": 56
        }
      ]
    },
    {
      "cell_type": "markdown",
      "source": [
        "We can see that 1stFlrSF has strong correlation with some variables, so we will drop it."
      ],
      "metadata": {
        "id": "HyPh15TucwIs"
      }
    },
    {
      "cell_type": "code",
      "source": [
        "ds_ols.drop(['1stFlrSF'], axis=1, inplace=True)"
      ],
      "metadata": {
        "id": "nYZqAnPVDDq3",
        "colab": {
          "base_uri": "https://localhost:8080/"
        },
        "outputId": "e9023114-3521-4b14-ad86-119b035f6c42"
      },
      "execution_count": 57,
      "outputs": [
        {
          "output_type": "stream",
          "name": "stderr",
          "text": [
            "/usr/local/lib/python3.7/dist-packages/pandas/core/frame.py:4913: SettingWithCopyWarning: \n",
            "A value is trying to be set on a copy of a slice from a DataFrame\n",
            "\n",
            "See the caveats in the documentation: https://pandas.pydata.org/pandas-docs/stable/user_guide/indexing.html#returning-a-view-versus-a-copy\n",
            "  errors=errors,\n"
          ]
        }
      ]
    },
    {
      "cell_type": "code",
      "source": [
        "#ols\n",
        "theta_hat = np.matmul(np.matmul(np.linalg.inv(np.matmul(np.array(ds_ols).transpose(), np.array(ds_ols))), ds_ols.transpose()), np.array(ds['SalePrice']))\n",
        "theta_hat"
      ],
      "metadata": {
        "id": "9AB1AZM-c8i1",
        "colab": {
          "base_uri": "https://localhost:8080/"
        },
        "outputId": "1d3f55e0-0005-4b75-d907-3bce3cbe390f"
      },
      "execution_count": 58,
      "outputs": [
        {
          "output_type": "execute_result",
          "data": {
            "text/plain": [
              "0      56122.115741\n",
              "1      18980.804996\n",
              "2        264.177711\n",
              "3      49389.460218\n",
              "4     152713.609240\n",
              "5     255135.986509\n",
              "6      -3646.727408\n",
              "7       -381.256708\n",
              "8       8893.753880\n",
              "9      11685.194474\n",
              "10   -595814.149259\n",
              "11   -597413.679942\n",
              "12   -588446.306663\n",
              "13   -586220.076192\n",
              "14   -590826.784399\n",
              "15   -619004.697332\n",
              "dtype: float64"
            ]
          },
          "metadata": {},
          "execution_count": 58
        }
      ]
    },
    {
      "cell_type": "code",
      "source": [
        "#put the values that we found above into the linear regression model\n",
        "predictions = 56122.115743*ds_ols['LotFrontage'] + 18980.804996*ds_ols['OverallQual'] + 264.177711*ds_ols['YearBuilt'] + 49389.460217*ds_ols['MasVnrArea'] + 152713.609240*ds_ols['TotalBsmtSF'] + 255135.986513*ds_ols['GrLivArea'] -3646.727408*ds_ols['FullBath'] -381.256708*ds_ols['TotRmsAbvGrd'] +8893.753880*ds_ols['Fireplaces'] + 11685.194474*ds_ols['GarageCars'] -595814.149263*ds_ols['Foundation_BrkTil'] -597413.679946*ds_ols['Foundation_CBlock']-588446.306666*ds_ols['Foundation_PConc'] - 586220.076196*ds_ols['Foundation_Slab'] - 590826.784402*ds_ols['Foundation_Stone'] - 619004.697335*ds_ols['Foundation_Wood']\n",
        "predictions"
      ],
      "metadata": {
        "id": "DDIWuKRac8lY",
        "colab": {
          "base_uri": "https://localhost:8080/"
        },
        "outputId": "139fea4f-d64b-45e7-f6b2-1e3743f46289"
      },
      "execution_count": 59,
      "outputs": [
        {
          "output_type": "execute_result",
          "data": {
            "text/plain": [
              "0       211410.525861\n",
              "1       174449.701904\n",
              "2       225450.404283\n",
              "3       195627.093405\n",
              "4       289700.176390\n",
              "            ...      \n",
              "1455    193248.231186\n",
              "1456    232378.146586\n",
              "1457    228517.608069\n",
              "1458    115429.414000\n",
              "1459    133667.615462\n",
              "Length: 1460, dtype: float64"
            ]
          },
          "metadata": {},
          "execution_count": 59
        }
      ]
    },
    {
      "cell_type": "markdown",
      "source": [
        "Calculate MSE (Mean Squared Error) and r2 score\n",
        "\n"
      ],
      "metadata": {
        "id": "42JUQkFuDEDP"
      }
    },
    {
      "cell_type": "code",
      "source": [
        "def mean_squared_error(y_test, predictions):\n",
        "    \"\"\"The cost function, J, describing the goodness of fit.\n",
        "    \n",
        "    Parameters:\n",
        "    y_test (np.array): n-dimensional vector of targets\n",
        "    predictions(np.array): n-dimensional vector of targets that were predicted\n",
        "    \"\"\"\n",
        "    y_test = np.array(y_test)\n",
        "    predictions = np.array(predictions)\n",
        "    \n",
        "    return 0.5*np.mean((y_test-predictions)**2)"
      ],
      "metadata": {
        "id": "Y51rUmG9DIaI"
      },
      "execution_count": 61,
      "outputs": []
    },
    {
      "cell_type": "code",
      "source": [
        "mse = mean_squared_error(ds['SalePrice'], predictions)\n",
        "mse"
      ],
      "metadata": {
        "id": "fWj0QlmndQX6",
        "colab": {
          "base_uri": "https://localhost:8080/"
        },
        "outputId": "f33b6388-5281-49a0-c2b4-7c0ec003f0fe"
      },
      "execution_count": 62,
      "outputs": [
        {
          "output_type": "execute_result",
          "data": {
            "text/plain": [
              "686653668.0138074"
            ]
          },
          "metadata": {},
          "execution_count": 62
        }
      ]
    },
    {
      "cell_type": "code",
      "source": [
        "def r2_score(y_test, predictions):\n",
        "    \"\"\"Calculates the R2 score (computes the coefficient of determination).\n",
        "    \n",
        "    Parameters:\n",
        "    y_test (np.array): n-dimensional vector of targets\n",
        "    predictions(np.array): n-dimensional vector of targets that were predicted\n",
        "    \"\"\"\n",
        "    y_test = np.array(y_test)\n",
        "    predictions = np.array(predictions)\n",
        "    \n",
        "    y_av = np.mean(y_test)\n",
        "    return 1 - np.sum(((y_test-predictions)**2))/np.sum((y_test-y_av)**2)\n",
        "    0.5*np.mean((y_test-predictions)**2)"
      ],
      "metadata": {
        "id": "apZDq_vQD6DM"
      },
      "execution_count": 63,
      "outputs": []
    },
    {
      "cell_type": "code",
      "source": [
        "r2 = r2_score(ds['SalePrice'], predictions)\n",
        "r2"
      ],
      "metadata": {
        "id": "z-ICT5E2dRAP",
        "colab": {
          "base_uri": "https://localhost:8080/"
        },
        "outputId": "2e2930e0-ac4d-4c6c-be55-cbcf934bc4f8"
      },
      "execution_count": 64,
      "outputs": [
        {
          "output_type": "execute_result",
          "data": {
            "text/plain": [
              "0.782249346487083"
            ]
          },
          "metadata": {},
          "execution_count": 64
        }
      ]
    },
    {
      "cell_type": "markdown",
      "source": [
        "r2 = 0.782, which is a good value for r2\n",
        "\n"
      ],
      "metadata": {
        "id": "wSz6QrNpdV-5"
      }
    },
    {
      "cell_type": "code",
      "source": [
        "plt.scatter(ds['SalePrice'],predictions)"
      ],
      "metadata": {
        "id": "2Pnmfm8Ld3on",
        "colab": {
          "base_uri": "https://localhost:8080/",
          "height": 286
        },
        "outputId": "70b5c0b3-35f3-42a7-a12f-427132736f38"
      },
      "execution_count": 65,
      "outputs": [
        {
          "output_type": "execute_result",
          "data": {
            "text/plain": [
              "<matplotlib.collections.PathCollection at 0x7f29e672b790>"
            ]
          },
          "metadata": {},
          "execution_count": 65
        },
        {
          "output_type": "display_data",
          "data": {
            "text/plain": [
              "<Figure size 432x288 with 1 Axes>"
            ],
            "image/png": "[encoded data removed]"
          },
          "metadata": {}
        }
      ]
    },
    {
      "cell_type": "code",
      "source": [
        "sns.displot((ds['SalePrice']-predictions),bins=50, kde=True);"
      ],
      "metadata": {
        "id": "Ax_u2gIPd6ag",
        "colab": {
          "base_uri": "https://localhost:8080/",
          "height": 365
        },
        "outputId": "2a128fa4-fc38-4720-fa3b-d6d62fb504c4"
      },
      "execution_count": 66,
      "outputs": [
        {
          "output_type": "display_data",
          "data": {
            "text/plain": [
              "<Figure size 360x360 with 1 Axes>"
            ],
            "image/png": "[encoded data removed]"
          },
          "metadata": {}
        }
      ]
    },
    {
      "cell_type": "code",
      "source": [
        "predictions.to_csv('pred.csv')"
      ],
      "metadata": {
        "id": "1puqVwtEvLEp"
      },
      "execution_count": 67,
      "outputs": []
    },
    {
      "cell_type": "markdown",
      "source": [
        "The truth is that there are some outliers, but overall the graphs seem to follow a good model."
      ],
      "metadata": {
        "id": "cub3gwcleJKD"
      }
    },
    {
      "cell_type": "markdown",
      "source": [
        "Question 6"
      ],
      "metadata": {
        "id": "_XrwjMU0emvI"
      }
    },
    {
      "cell_type": "code",
      "source": [
        "from sklearn.linear_model import LinearRegression"
      ],
      "metadata": {
        "id": "v-YZw3zPeoGD"
      },
      "execution_count": 68,
      "outputs": []
    },
    {
      "cell_type": "code",
      "source": [
        "lm = LinearRegression()"
      ],
      "metadata": {
        "id": "5n3QUpxkvOtV"
      },
      "execution_count": 69,
      "outputs": []
    },
    {
      "cell_type": "markdown",
      "source": [
        "Train the model"
      ],
      "metadata": {
        "id": "8hSMQ3Jhv1MM"
      }
    },
    {
      "cell_type": "code",
      "source": [
        "lm.fit(ds_ols,ds['SalePrice'])"
      ],
      "metadata": {
        "id": "0CfnPUPjvPCh",
        "colab": {
          "base_uri": "https://localhost:8080/"
        },
        "outputId": "473f0325-222d-4b9e-cf6d-52ee8d199703"
      },
      "execution_count": 70,
      "outputs": [
        {
          "output_type": "execute_result",
          "data": {
            "text/plain": [
              "LinearRegression()"
            ]
          },
          "metadata": {},
          "execution_count": 70
        }
      ]
    },
    {
      "cell_type": "markdown",
      "source": [
        "Import the test data and do the same pre process"
      ],
      "metadata": {
        "id": "9ZYMF3ebvRm1"
      }
    },
    {
      "cell_type": "code",
      "source": [
        "ds_test = pd.read_csv('HouseTest.csv')"
      ],
      "metadata": {
        "id": "2i5g-6TrvPFH"
      },
      "execution_count": 71,
      "outputs": []
    },
    {
      "cell_type": "code",
      "source": [
        "q = ds_test.groupby(['Street'])['LotFrontage'].quantile([0.25,0.5,0.75])\n",
        "q"
      ],
      "metadata": {
        "id": "8-OLC0lzvPJn",
        "colab": {
          "base_uri": "https://localhost:8080/"
        },
        "outputId": "e4e631b2-d004-43c2-d0f3-2b81f486d8b5"
      },
      "execution_count": 72,
      "outputs": [
        {
          "output_type": "execute_result",
          "data": {
            "text/plain": [
              "Street      \n",
              "Grvl    0.25     60.0\n",
              "        0.50     66.0\n",
              "        0.75    109.0\n",
              "Pave    0.25     58.0\n",
              "        0.50     67.0\n",
              "        0.75     80.0\n",
              "Name: LotFrontage, dtype: float64"
            ]
          },
          "metadata": {},
          "execution_count": 72
        }
      ]
    },
    {
      "cell_type": "code",
      "source": [
        "def impute_LotFrontage(cols):\n",
        "    LotFrontage = cols[0]\n",
        "    Street = cols[1]\n",
        "    \n",
        "    if pd.isnull(LotFrontage):\n",
        "\n",
        "        if Street == 'Pave':\n",
        "            return 66\n",
        "\n",
        "        else:\n",
        "            return 80\n",
        "\n",
        "    else:\n",
        "        return LotFrontage\n"
      ],
      "metadata": {
        "id": "Oa7jPyPhvPMX"
      },
      "execution_count": 73,
      "outputs": []
    },
    {
      "cell_type": "code",
      "source": [
        "ds_test['LotFrontage'] = ds_test[['LotFrontage','Street']].apply(impute_LotFrontage,axis=1)"
      ],
      "metadata": {
        "id": "V--hyugYvPPR"
      },
      "execution_count": 74,
      "outputs": []
    },
    {
      "cell_type": "code",
      "source": [
        "# Replace remaining values with Median for Numeric and mode for categorical\n",
        "ds_test.fillna(ds.agg(['median',lambda x : x.value_counts().index[0]]).ffill().iloc[-1,:],inplace = True)"
      ],
      "metadata": {
        "id": "Nd5mPU2zvWx-"
      },
      "execution_count": 75,
      "outputs": []
    },
    {
      "cell_type": "code",
      "source": [
        "ds_test['LotFrontage'] = ds_test['LotFrontage']  / ds_test['LotFrontage'].abs().max()\n",
        "ds_test['LotArea'] = ds_test['LotArea']  / ds_test['LotArea'].abs().max()\n",
        "ds_test['MasVnrArea'] = ds_test['MasVnrArea']  / ds_test['MasVnrArea'].abs().max()\n",
        "ds_test['BsmtFinSF1'] = ds_test['BsmtFinSF1']  / ds_test['BsmtFinSF1'].abs().max()\n",
        "ds_test['BsmtFinSF2'] = ds_test['BsmtFinSF2']  / ds_test['BsmtFinSF2'].abs().max()\n",
        "ds_test['BsmtUnfSF'] = ds_test['BsmtUnfSF']  / ds_test['BsmtUnfSF'].abs().max()\n",
        "ds_test['TotalBsmtSF'] = ds_test['TotalBsmtSF']  / ds_test['TotalBsmtSF'].abs().max()\n",
        "ds_test['1stFlrSF'] = ds_test['1stFlrSF']  / ds_test['1stFlrSF'].abs().max()\n",
        "ds_test['2ndFlrSF'] = ds_test['2ndFlrSF']  / ds_test['2ndFlrSF'].abs().max()\n",
        "ds_test['GrLivArea'] = ds_test['GrLivArea']  / ds_test['GrLivArea'].abs().max()\n",
        "ds_test['GarageArea'] = ds_test['GarageArea']  / ds_test['GarageArea'].abs().max()\n",
        "ds_test['WoodDeckSF'] = ds_test['WoodDeckSF']  / ds_test['WoodDeckSF'].abs().max()\n",
        "ds_test['EnclosedPorch'] = ds_test['EnclosedPorch']  / ds_test['EnclosedPorch'].abs().max()\n",
        "ds_test['3SsnPorch'] = ds_test['3SsnPorch']  / ds_test['3SsnPorch'].abs().max()\n",
        "ds_test['ScreenPorch'] = ds_test['ScreenPorch']  / ds_test['ScreenPorch'].abs().max()\n",
        "ds_test['PoolArea'] = ds_test['PoolArea']  / ds_test['PoolArea'].abs().max()\n"
      ],
      "metadata": {
        "id": "AffJ8W4YvW0g"
      },
      "execution_count": 76,
      "outputs": []
    },
    {
      "cell_type": "code",
      "source": [
        "MSZoning_categories = ['A', 'FV', 'RP', 'RL', 'RM', 'RH', 'C (all)', 'I']\n",
        "ExterQual_categories = ['NA', 'Po', 'Fa', 'TA', 'Gd', 'Ex']\n",
        "ExterCond_categories = ['NA', 'Po', 'Fa', 'TA', 'Gd', 'Ex']\n",
        "BsmtCond_categories = ['NA', 'Po', 'Fa', 'TA', 'Gd', 'Ex']\n",
        "BsmtExposure_categories = ['NA', 'No', 'Mn', 'Av', 'Gd']\n",
        "BsmtFinType1_categories = ['NA', 'Unf', 'LwQ', 'Rec', 'BLQ', 'ALQ', 'GLQ']\n",
        "HeatingQC_categories = ['Po', 'Fa', 'TA', 'Gd', 'Ex']\n",
        "KitchenQual_categories = ['Po', 'Fa', 'TA', 'Gd', 'Ex']\n",
        "GarageType_categories = ['NA', 'Detchd', 'CarPort', 'BuiltIn', 'Basment', 'Attchd', '2Types']\n",
        "GarageQual_categories = ['NA', 'Po', 'Fa', 'TA', 'Gd', 'Ex']"
      ],
      "metadata": {
        "id": "Ohd1SF-NvW2v"
      },
      "execution_count": 77,
      "outputs": []
    },
    {
      "cell_type": "code",
      "source": [
        "encoder = OrdinalEncoder(categories=[MSZoning_categories, ExterQual_categories, ExterCond_categories, BsmtCond_categories, BsmtExposure_categories, BsmtFinType1_categories, HeatingQC_categories, KitchenQual_categories, GarageType_categories, GarageQual_categories])\n",
        "ar = encoder.fit_transform(ds_test[['MSZoning', 'ExterQual', 'ExterCond', 'BsmtCond', 'BsmtExposure', 'BsmtFinType1', 'HeatingQC', 'KitchenQual', 'GarageType', 'GarageQual']])"
      ],
      "metadata": {
        "id": "Jqj-FxG-vW7q"
      },
      "execution_count": 78,
      "outputs": []
    },
    {
      "cell_type": "code",
      "source": [
        "for i, c in enumerate(ds_test):\n",
        "    ds_test['MSZoning'][i] = ar[i][0]\n",
        "    ds_test['ExterQual'][i] = ar[i][1]\n",
        "    ds_test['ExterCond'][i] = ar[i][2]\n",
        "    ds_test['BsmtCond'][i] = ar[i][3]\n",
        "    ds_test['BsmtExposure'][i] = ar[i][4]\n",
        "    ds_test['BsmtFinType1'][i] = ar[i][5]\n",
        "    ds_test['HeatingQC'][i] = ar[i][6]\n",
        "    ds_test['KitchenQual'][i] = ar[i][7]\n",
        "    ds_test['GarageType'][i] = ar[i][8]\n",
        "    ds_test['GarageQual'][i] = ar[i][9]\n"
      ],
      "metadata": {
        "id": "RyNGG6f7vW-c",
        "colab": {
          "base_uri": "https://localhost:8080/"
        },
        "outputId": "f7bc4d03-8247-40bb-abe2-dfa03ef35380"
      },
      "execution_count": 79,
      "outputs": [
        {
          "output_type": "stream",
          "name": "stderr",
          "text": [
            "/usr/local/lib/python3.7/dist-packages/ipykernel_launcher.py:2: SettingWithCopyWarning: \n",
            "A value is trying to be set on a copy of a slice from a DataFrame\n",
            "\n",
            "See the caveats in the documentation: https://pandas.pydata.org/pandas-docs/stable/user_guide/indexing.html#returning-a-view-versus-a-copy\n",
            "  \n",
            "/usr/local/lib/python3.7/dist-packages/ipykernel_launcher.py:3: SettingWithCopyWarning: \n",
            "A value is trying to be set on a copy of a slice from a DataFrame\n",
            "\n",
            "See the caveats in the documentation: https://pandas.pydata.org/pandas-docs/stable/user_guide/indexing.html#returning-a-view-versus-a-copy\n",
            "  This is separate from the ipykernel package so we can avoid doing imports until\n",
            "/usr/local/lib/python3.7/dist-packages/ipykernel_launcher.py:4: SettingWithCopyWarning: \n",
            "A value is trying to be set on a copy of a slice from a DataFrame\n",
            "\n",
            "See the caveats in the documentation: https://pandas.pydata.org/pandas-docs/stable/user_guide/indexing.html#returning-a-view-versus-a-copy\n",
            "  after removing the cwd from sys.path.\n",
            "/usr/local/lib/python3.7/dist-packages/ipykernel_launcher.py:5: SettingWithCopyWarning: \n",
            "A value is trying to be set on a copy of a slice from a DataFrame\n",
            "\n",
            "See the caveats in the documentation: https://pandas.pydata.org/pandas-docs/stable/user_guide/indexing.html#returning-a-view-versus-a-copy\n",
            "  \"\"\"\n",
            "/usr/local/lib/python3.7/dist-packages/ipykernel_launcher.py:6: SettingWithCopyWarning: \n",
            "A value is trying to be set on a copy of a slice from a DataFrame\n",
            "\n",
            "See the caveats in the documentation: https://pandas.pydata.org/pandas-docs/stable/user_guide/indexing.html#returning-a-view-versus-a-copy\n",
            "  \n",
            "/usr/local/lib/python3.7/dist-packages/ipykernel_launcher.py:7: SettingWithCopyWarning: \n",
            "A value is trying to be set on a copy of a slice from a DataFrame\n",
            "\n",
            "See the caveats in the documentation: https://pandas.pydata.org/pandas-docs/stable/user_guide/indexing.html#returning-a-view-versus-a-copy\n",
            "  import sys\n",
            "/usr/local/lib/python3.7/dist-packages/ipykernel_launcher.py:8: SettingWithCopyWarning: \n",
            "A value is trying to be set on a copy of a slice from a DataFrame\n",
            "\n",
            "See the caveats in the documentation: https://pandas.pydata.org/pandas-docs/stable/user_guide/indexing.html#returning-a-view-versus-a-copy\n",
            "  \n",
            "/usr/local/lib/python3.7/dist-packages/ipykernel_launcher.py:9: SettingWithCopyWarning: \n",
            "A value is trying to be set on a copy of a slice from a DataFrame\n",
            "\n",
            "See the caveats in the documentation: https://pandas.pydata.org/pandas-docs/stable/user_guide/indexing.html#returning-a-view-versus-a-copy\n",
            "  if __name__ == '__main__':\n",
            "/usr/local/lib/python3.7/dist-packages/ipykernel_launcher.py:10: SettingWithCopyWarning: \n",
            "A value is trying to be set on a copy of a slice from a DataFrame\n",
            "\n",
            "See the caveats in the documentation: https://pandas.pydata.org/pandas-docs/stable/user_guide/indexing.html#returning-a-view-versus-a-copy\n",
            "  # Remove the CWD from sys.path while we load stuff.\n",
            "/usr/local/lib/python3.7/dist-packages/ipykernel_launcher.py:11: SettingWithCopyWarning: \n",
            "A value is trying to be set on a copy of a slice from a DataFrame\n",
            "\n",
            "See the caveats in the documentation: https://pandas.pydata.org/pandas-docs/stable/user_guide/indexing.html#returning-a-view-versus-a-copy\n",
            "  # This is added back by InteractiveShellApp.init_path()\n"
          ]
        }
      ]
    },
    {
      "cell_type": "code",
      "source": [
        "ds_test = pd.get_dummies(ds_test, columns=[\"RoofMatl\", 'MasVnrType', 'Foundation'])"
      ],
      "metadata": {
        "id": "MtjKV3mzvXBT"
      },
      "execution_count": 80,
      "outputs": []
    },
    {
      "cell_type": "markdown",
      "source": [
        "Keep only the columns that we are interested in"
      ],
      "metadata": {
        "id": "lUN-c78bvqEf"
      }
    },
    {
      "cell_type": "code",
      "source": [
        "ds_test = ds_test[['LotFrontage', 'OverallQual', 'YearBuilt', 'MasVnrArea', 'TotalBsmtSF', '1stFlrSF', 'GrLivArea', 'FullBath', 'TotRmsAbvGrd', 'Fireplaces', 'GarageCars', 'Foundation_BrkTil', 'Foundation_CBlock', 'Foundation_PConc', 'Foundation_Slab', 'Foundation_Stone', 'Foundation_Wood']]"
      ],
      "metadata": {
        "id": "YnyqBhp1ve4J"
      },
      "execution_count": 81,
      "outputs": []
    },
    {
      "cell_type": "code",
      "source": [
        "ds_test.drop(['1stFlrSF'], axis=1, inplace=True)"
      ],
      "metadata": {
        "id": "9T1XQmw6ve65"
      },
      "execution_count": 82,
      "outputs": []
    },
    {
      "cell_type": "markdown",
      "source": [
        "Predict the prices"
      ],
      "metadata": {
        "id": "LBtQ_i2jvt7y"
      }
    },
    {
      "cell_type": "code",
      "source": [
        "predictions = lm.predict(ds_test)"
      ],
      "metadata": {
        "id": "wyGX6A4pve9Z"
      },
      "execution_count": 83,
      "outputs": []
    },
    {
      "cell_type": "code",
      "source": [
        "pred=pd.DataFrame(predictions, columns=['SalePrice']) "
      ],
      "metadata": {
        "id": "rgmuM9QCve_4"
      },
      "execution_count": 84,
      "outputs": []
    },
    {
      "cell_type": "code",
      "source": [
        "pred.to_csv('pred.csv')"
      ],
      "metadata": {
        "id": "KNG4FxJVvj5L"
      },
      "execution_count": 85,
      "outputs": []
    }
  ]
}